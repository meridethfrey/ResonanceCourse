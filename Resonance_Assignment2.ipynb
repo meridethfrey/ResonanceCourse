{
  "nbformat": 4,
  "nbformat_minor": 0,
  "metadata": {
    "colab": {
      "name": "Resonance_Assignment2.ipynb",
      "provenance": [],
      "toc_visible": true,
      "authorship_tag": "ABX9TyPbRoKh7i8DUQb+Z9PKWZA+",
      "include_colab_link": true
    },
    "kernelspec": {
      "name": "python3",
      "display_name": "Python 3"
    }
  },
  "cells": [
    {
      "cell_type": "markdown",
      "metadata": {
        "id": "view-in-github",
        "colab_type": "text"
      },
      "source": [
        "<a href=\"https://colab.research.google.com/github/meridethfrey/ResonanceCourse/blob/master/Resonance_Assignment2.ipynb\" target=\"_parent\"><img src=\"https://colab.research.google.com/assets/colab-badge.svg\" alt=\"Open In Colab\"/></a>"
      ]
    },
    {
      "cell_type": "markdown",
      "metadata": {
        "id": "mCyjLHBajkDO",
        "colab_type": "text"
      },
      "source": [
        "#Assignment 2\n",
        "Save a copy of this to your own Google Drive, edit your copy, and share your edited version with Merideth (meri.frey@gmail.com) by **noon on Monday** to submit your assignment.\n",
        "\n",
        "Before completing this assignment, it is assumed you have worked through:\n",
        "- [02_Arrays_and_Plotting.ipynb](https://colab.research.google.com/drive/1jCvwTnwFm8mhU-4ynlSsYR7fMHSHUCU6)\n"
      ]
    },
    {
      "cell_type": "code",
      "metadata": {
        "id": "SkJfiA3uR8dk",
        "colab_type": "code",
        "colab": {}
      },
      "source": [
        "import numpy as np \n",
        "import matplotlib.pyplot as plt \n",
        "\n",
        "%matplotlib inline"
      ],
      "execution_count": 0,
      "outputs": []
    },
    {
      "cell_type": "markdown",
      "metadata": {
        "id": "Vd87RDgMk06W",
        "colab_type": "text"
      },
      "source": [
        "##Question 1\n",
        "In the code cell below, write a function that takes as input a numpy array and a second numerical parameter, `tau`, that returns an array where each element in the output contains the calculation\n",
        "$$ e^{-x / \\tau} $$\n",
        "for the corresponding value $x$ in the input array and $\\tau$ = `tau`."
      ]
    },
    {
      "cell_type": "code",
      "metadata": {
        "id": "axHSTneDO9nr",
        "colab_type": "code",
        "colab": {}
      },
      "source": [
        ""
      ],
      "execution_count": 0,
      "outputs": []
    },
    {
      "cell_type": "markdown",
      "metadata": {
        "id": "0bMYd8-9lOpH",
        "colab_type": "text"
      },
      "source": [
        "##Question 2\n",
        "In the code cell below use the function you wrote in Question 1 to...\n",
        "\n",
        "1. Plot $e^{-x/\\tau}$ on a linear scale for some reasonable range of values of $x$ for $\\tau = 1$.\n",
        "2. On the same axes, plot the same function for three different values of $\\tau$. (You can issue multiple `plt.plot` commands within the same cell.)\n",
        "\n",
        "**NOTE: Always make sure your plots are nicely labelled!**"
      ]
    },
    {
      "cell_type": "code",
      "metadata": {
        "id": "oYUU_cX2YIWM",
        "colab_type": "code",
        "colab": {}
      },
      "source": [
        ""
      ],
      "execution_count": 0,
      "outputs": []
    },
    {
      "cell_type": "markdown",
      "metadata": {
        "id": "jemhC330mp_b",
        "colab_type": "text"
      },
      "source": [
        "## Question 3\n",
        "In the code cell below...\n",
        "\n",
        "1. Write a function that takes as inputs a numpy array `t` and the numerical parameters `A`, `omega`, and `phi` that returns an array where each element in the output contains the calculation $$A \\sin(\\omega t + \\phi)$$ where $A$ = `A`, $\\omega$ = `omega`, and $\\phi$ = `phi`.\n",
        "2. Plot the function above for `t = np.arange(0, 10, 0.1)`, `A=3`, `omega=2*np.pi*0.2`, and `phi=np.pi/2`. Choose suitable ranges for the plot region.\n",
        "\n",
        "**NOTE: Always make sure your plots are nicely labelled!**"
      ]
    },
    {
      "cell_type": "code",
      "metadata": {
        "id": "gCZV16wTXmTa",
        "colab_type": "code",
        "colab": {}
      },
      "source": [
        ""
      ],
      "execution_count": 0,
      "outputs": []
    },
    {
      "cell_type": "markdown",
      "metadata": {
        "id": "7pwT1FGzm3OG",
        "colab_type": "text"
      },
      "source": [
        "##Question 4\n",
        "Any questions about the material covered so far that you want to go over in class?"
      ]
    },
    {
      "cell_type": "markdown",
      "metadata": {
        "id": "9Itqm8ccX1hE",
        "colab_type": "text"
      },
      "source": [
        ""
      ]
    }
  ]
}