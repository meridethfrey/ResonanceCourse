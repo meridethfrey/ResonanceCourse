{
  "nbformat": 4,
  "nbformat_minor": 0,
  "metadata": {
    "colab": {
      "name": "Resonance_Assignment1.ipynb",
      "provenance": [],
      "toc_visible": true,
      "authorship_tag": "ABX9TyOnWW/8JebiT7O1CJOmWNHq",
      "include_colab_link": true
    },
    "kernelspec": {
      "name": "python3",
      "display_name": "Python 3"
    }
  },
  "cells": [
    {
      "cell_type": "markdown",
      "metadata": {
        "id": "view-in-github",
        "colab_type": "text"
      },
      "source": [
        "<a href=\"https://colab.research.google.com/github/meridethfrey/ResonanceCourse/blob/master/Resonance_Assignment1.ipynb\" target=\"_parent\"><img src=\"https://colab.research.google.com/assets/colab-badge.svg\" alt=\"Open In Colab\"/></a>"
      ]
    },
    {
      "cell_type": "markdown",
      "metadata": {
        "id": "mCyjLHBajkDO",
        "colab_type": "text"
      },
      "source": [
        "#Assignment 1\n",
        "Save a copy of this to your own Google Drive, edit your copy, and share your edited version with Merideth (meri.frey@gmail.com) by **noon on Monday** to submit your assignment.\n",
        "\n",
        "Before completing this assignment, it is assumed you have worked through:\n",
        "- [Overview of Colaboratory Features](https://drive.google.com/open?id=1gThDhItPnDKKJoYy9nRUXndR17J2RDCn)\n",
        "- [01_Getting_Started_with_Python.ipynb](https://drive.google.com/open?id=1n66dgMlX5ExVmjPow3uA83QPpcISuXvZ)\n"
      ]
    },
    {
      "cell_type": "markdown",
      "metadata": {
        "id": "8NA_FGt9l2hp",
        "colab_type": "text"
      },
      "source": [
        "## Indentifying Information\n",
        "- Name:\n",
        "- Preferred Pronouns:\n",
        "- Anticipated Concentration:\n"
      ]
    },
    {
      "cell_type": "markdown",
      "metadata": {
        "id": "Vd87RDgMk06W",
        "colab_type": "text"
      },
      "source": [
        "##Question 1\n",
        "Create a text cell below this one and write your response to the following question in this cell.\n",
        "\n",
        "*What skills, mindsets, or abilities do you hope to get out of this course?*"
      ]
    },
    {
      "cell_type": "markdown",
      "metadata": {
        "id": "0bMYd8-9lOpH",
        "colab_type": "text"
      },
      "source": [
        "##Question 2\n",
        "Create a text cell below this one and write your response to the following question in this cell.\n",
        "\n",
        "*What are your current career goals at this moment in time?*"
      ]
    },
    {
      "cell_type": "markdown",
      "metadata": {
        "id": "jemhC330mp_b",
        "colab_type": "text"
      },
      "source": [
        "## Question 3\n",
        "$\\LaTeX$ your favorite mathematical equation or formula in a text cell below this one."
      ]
    },
    {
      "cell_type": "markdown",
      "metadata": {
        "id": "7pwT1FGzm3OG",
        "colab_type": "text"
      },
      "source": [
        "##Question 4\n",
        "Compute $256^3$ in a code cell below this one."
      ]
    },
    {
      "cell_type": "markdown",
      "metadata": {
        "id": "0IbYibB-ocWB",
        "colab_type": "text"
      },
      "source": [
        "## Question 5\n",
        "Using `import numpy as np` and the `numpy` mathematical function - the documentation for the mathematical functions can be found [here](http://docs.scipy.org/doc/numpy/reference/routines.math.html) - evaluate the expression:\n",
        "\n",
        "$$\\frac{1}{2\\sqrt{\\pi}} \\cdot \\sin^{-1}(1)$$"
      ]
    },
    {
      "cell_type": "code",
      "metadata": {
        "id": "f1CsXUvxp1JX",
        "colab_type": "code",
        "colab": {}
      },
      "source": [
        ""
      ],
      "execution_count": 0,
      "outputs": []
    }
  ]
}