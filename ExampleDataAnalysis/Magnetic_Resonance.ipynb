{
  "nbformat": 4,
  "nbformat_minor": 0,
  "metadata": {
    "colab": {
      "name": "Magnetic Resonance",
      "provenance": [],
      "collapsed_sections": [],
      "toc_visible": true,
      "authorship_tag": "ABX9TyPWEMiwr9upzqBK1fzURWjN",
      "include_colab_link": true
    },
    "kernelspec": {
      "name": "python3",
      "display_name": "Python 3"
    }
  },
  "cells": [
    {
      "cell_type": "markdown",
      "metadata": {
        "id": "view-in-github",
        "colab_type": "text"
      },
      "source": [
        "<a href=\"https://colab.research.google.com/github/meridethfrey/ResonanceCourse/blob/master/ExampleDataAnalysis/Magnetic_Resonance.ipynb\" target=\"_parent\"><img src=\"https://colab.research.google.com/assets/colab-badge.svg\" alt=\"Open In Colab\"/></a>"
      ]
    },
    {
      "cell_type": "markdown",
      "metadata": {
        "id": "mCyjLHBajkDO",
        "colab_type": "text"
      },
      "source": [
        "#Introduction\n",
        "In this lab, we are analyzing free induction decay data for various samples using the TeachSpin NMR.\n"
      ]
    },
    {
      "cell_type": "markdown",
      "metadata": {
        "id": "Vd87RDgMk06W",
        "colab_type": "text"
      },
      "source": [
        "##Theory\n",
        "The NMR signal for the free induction decay should look similar to the free decay signal we saw for the damped harmonic oscillator. This will be a sinusoidal function with a decaying exponential envelope. \n",
        "\n",
        "$$S(t) = A_0 e^{-t/T_2} \\cos(2 \\pi f t)$$\n",
        "\n",
        "Now, the relevant time constant for the decay is $T_2$, the spin-spin relaxation time, or the time for the spins in the sample to get out-of-phase with each other. The frequency, $f$, in the signal is actually the *difference* between the Larmor frequency and the input frequency (~21 MHz).\n"
      ]
    },
    {
      "cell_type": "markdown",
      "metadata": {
        "id": "0bMYd8-9lOpH",
        "colab_type": "text"
      },
      "source": [
        "#Experimental Method\n",
        "We are analyzing the free induction decay data from two different samples using the TeachSpin NMR spectrometer. \n",
        "\n",
        "*The photo below shows the TeachSpin apparatus we are using for these experiments.*\n",
        "\n",
        "![TeachSpin_AnnotatedPhoto.png](https://imgur.com/4zCIOf8.jpg)\n",
        "\n",
        "The raw CSV data files for each experiment can be found in the shared folder: Colab Notebooks > In-Class Experimental Data > Magnetic Resonance.\n",
        "\n",
        "* FID of Mineral Oil (FID_MineralOil.CSV)\n",
        "\n",
        "* FID of Silicone (FID_Silicone.CSV)\n",
        "\n",
        "* FID of Silicone with magnetic field gradient along z axis (FID_Silicone_WithGradient.CSV)\n",
        "\n",
        "This data should be downloaded onto your local computer and then uploaded into your editable local copy of this colaboratory notebook in order to run the analysis below.\n",
        "\n",
        "From this data we should be able to:\n",
        "* curve fit the free induction decay to find the $T_2$ time constant for mineral oil and silicone.\n",
        "\n",
        "* take the Fourier transform of each data set to match with our in-class predictions for how the Fourier transforms should differ for these different types of samples, and explore the effects of adding a magnetic field gradient.\n",
        "\n",
        "\n"
      ]
    },
    {
      "cell_type": "markdown",
      "metadata": {
        "id": "7pwT1FGzm3OG",
        "colab_type": "text"
      },
      "source": [
        "#Data Analysis\n",
        "Here is where you should explain your data analysis procedure in text cells (think of this as more readable comments on your code) while including the code you are using to analyze the data in code cells.\n",
        "\n",
        "* Describe any data cleaning you did to the raw data to get it into the form uploaded to this notebook.\n",
        "* Include plots of your data that are nicely labelled to display your data. (Do NOT print out arrays, no one wants to see that!)\n",
        "* Include any curve fitting and be sure to show the fit parameters with uncertainties."
      ]
    },
    {
      "cell_type": "code",
      "metadata": {
        "id": "SkJfiA3uR8dk",
        "colab_type": "code",
        "colab": {}
      },
      "source": [
        "import numpy as np \n",
        "import matplotlib.pyplot as plt \n",
        "import scipy.stats\n",
        "import scipy.optimize\n",
        "%matplotlib inline"
      ],
      "execution_count": 0,
      "outputs": []
    },
    {
      "cell_type": "markdown",
      "metadata": {
        "id": "C2CSZ_DJsLVr",
        "colab_type": "text"
      },
      "source": [
        "# Discussion\n",
        "This is where you talk about your results and how it compared to the theory.\n",
        "\n",
        "* If there are clear discrepancies with the theory, identify systematic errors resulting from assumptions that are the most likely explanations.\n",
        "* Clearly state the conclusions that can be made from this experiment, and include any ideas for future experiments to improve upon your work."
      ]
    },
    {
      "cell_type": "markdown",
      "metadata": {
        "id": "9Itqm8ccX1hE",
        "colab_type": "text"
      },
      "source": [
        ""
      ]
    }
  ]
}