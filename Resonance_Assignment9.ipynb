{
  "nbformat": 4,
  "nbformat_minor": 0,
  "metadata": {
    "colab": {
      "name": "Resonance_Assignment9.ipynb",
      "provenance": [],
      "collapsed_sections": [],
      "toc_visible": true,
      "authorship_tag": "ABX9TyPsjjnwwOrRvQ4TiwXNRwj8",
      "include_colab_link": true
    },
    "kernelspec": {
      "name": "python3",
      "display_name": "Python 3"
    }
  },
  "cells": [
    {
      "cell_type": "markdown",
      "metadata": {
        "id": "view-in-github",
        "colab_type": "text"
      },
      "source": [
        "<a href=\"https://colab.research.google.com/github/meridethfrey/ResonanceCourse/blob/master/Resonance_Assignment9.ipynb\" target=\"_parent\"><img src=\"https://colab.research.google.com/assets/colab-badge.svg\" alt=\"Open In Colab\"/></a>"
      ]
    },
    {
      "cell_type": "markdown",
      "metadata": {
        "id": "mCyjLHBajkDO",
        "colab_type": "text"
      },
      "source": [
        "#Assignment 9\n",
        "Save a copy of this to your own Google Drive, edit your copy, and share your edited version with Merideth (meri.frey@gmail.com) by **noon on Monday** to submit your assignment.\n",
        "\n",
        "Before completing this assignment, it is assumed you have worked through:\n",
        "- [Using_Fourier_Transforms.ipynb](https://colab.research.google.com/drive/1RettIcc8YUI9dm9A4-NPLS6-skYBucIv)\n"
      ]
    },
    {
      "cell_type": "code",
      "metadata": {
        "id": "SkJfiA3uR8dk",
        "colab_type": "code",
        "colab": {}
      },
      "source": [
        "import numpy as np \n",
        "import matplotlib.pyplot as plt \n",
        "%matplotlib inline\n",
        "\n",
        "#Helpful functions for you to use\n",
        "def GetFourierSpectrum(Tstep,time,y):\n",
        "    spec   = np.fft.fft(y)\n",
        "    spec   = np.abs(spec)/(0.5*len(time))\n",
        "    freq = np.fft.fftfreq(len(time),Tstep)\n",
        "    return freq, spec\n",
        "\n",
        "def PlotFourierSpectrum(Tstep, freq, spec):\n",
        "    plt.plot(freq, np.abs(spec))#......only look at the \"positive frequencies\" and gives us one-sided power spectral density(PSD)\n",
        "    plt.xlim(xmin=0, xmax=1/(2*Tstep))\n",
        "    plt.xlabel('Frequency [Hz]')\n",
        "    plt.ylabel('Amplitude [arb]')\n",
        "    plt.grid()"
      ],
      "execution_count": 0,
      "outputs": []
    },
    {
      "cell_type": "markdown",
      "metadata": {
        "id": "Vd87RDgMk06W",
        "colab_type": "text"
      },
      "source": [
        "##Question 1\n",
        "For this question, I have included in the \"Assignments\" folder a data file called newhaven2007.tsv that you will need to upload to your Google Colaboratory notebook. This is a \"tab-separated values\" file, so delimiter='\\t' should be used.\n",
        "\n",
        "This file gives the hourly depth (in meters) for the water height in the New Haven harbor for the year 2007. This data was acquired from one of several National Oceanic and Atmospheric Administration (NOAA)public databases.\n",
        "\n",
        "Code for inputting and plotting the time domain data is given below."
      ]
    },
    {
      "cell_type": "code",
      "metadata": {
        "id": "axHSTneDO9nr",
        "colab_type": "code",
        "colab": {
          "base_uri": "https://localhost:8080/",
          "height": 296
        },
        "outputId": "41a4eae4-dd3f-4dd6-fb9d-2d6b7bc90fa1"
      },
      "source": [
        "depth = np.loadtxt('newhaven2007.tsv', delimiter='\\t', unpack=True)\n",
        "hours = np.arange(0, np.size(depth), 1)  # [hr]\n",
        "plt.plot(hours, depth)\n",
        "plt.xlabel(\"Time [hr]\")\n",
        "plt.ylabel(\"Depth [m]\")"
      ],
      "execution_count": 7,
      "outputs": [
        {
          "output_type": "execute_result",
          "data": {
            "text/plain": [
              "Text(0, 0.5, 'Depth [m]')"
            ]
          },
          "metadata": {
            "tags": []
          },
          "execution_count": 7
        },
        {
          "output_type": "display_data",
          "data": {
            "image/png": "[encoded data removed]",
            "text/plain": [
              "<Figure size 432x288 with 1 Axes>"
            ]
          },
          "metadata": {
            "tags": []
          }
        }
      ]
    },
    {
      "cell_type": "markdown",
      "metadata": {
        "id": "lUyxGISdSN8m",
        "colab_type": "text"
      },
      "source": [
        "In the code cell below, plot the Fourier spectrum for this data set using the functions defined above.\n"
      ]
    },
    {
      "cell_type": "code",
      "metadata": {
        "id": "Lc4Igy1RTtbM",
        "colab_type": "code",
        "colab": {}
      },
      "source": [
        ""
      ],
      "execution_count": 0,
      "outputs": []
    },
    {
      "cell_type": "markdown",
      "metadata": {
        "id": "0bMYd8-9lOpH",
        "colab_type": "text"
      },
      "source": [
        "##Question 2\n",
        "Using the data from Question 1, make any necessary plots and/or do any necessary calculations in the cells below to answer the following questions:\n",
        "* What are the frequency units for this plot? *Hint: It should be 1/time units used.*\n",
        "* About what frequency is the largest peak?\n",
        "* What do you think is the cause of the largest frequency peak? *Hint: you might want find it helpful to rewrite this frequency into a period of days.*"
      ]
    },
    {
      "cell_type": "code",
      "metadata": {
        "id": "d5hPMyTvTsC9",
        "colab_type": "code",
        "colab": {}
      },
      "source": [
        ""
      ],
      "execution_count": 0,
      "outputs": []
    },
    {
      "cell_type": "markdown",
      "metadata": {
        "id": "7pwT1FGzm3OG",
        "colab_type": "text"
      },
      "source": [
        "##Question 3\n",
        "Any questions about the material covered so far that you want to go over in class?"
      ]
    },
    {
      "cell_type": "markdown",
      "metadata": {
        "id": "9Itqm8ccX1hE",
        "colab_type": "text"
      },
      "source": [
        ""
      ]
    }
  ]
}