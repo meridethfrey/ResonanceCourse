{
  "nbformat": 4,
  "nbformat_minor": 0,
  "metadata": {
    "anaconda-cloud": {},
    "kernelspec": {
      "display_name": "Python 2",
      "language": "python",
      "name": "python2"
    },
    "language_info": {
      "codemirror_mode": {
        "name": "ipython",
        "version": 2
      },
      "file_extension": ".py",
      "mimetype": "text/x-python",
      "name": "python",
      "nbconvert_exporter": "python",
      "pygments_lexer": "ipython2",
      "version": "2.7.13"
    },
    "colab": {
      "name": "02_Arrays_and_Plotting.ipynb",
      "provenance": [],
      "collapsed_sections": [],
      "include_colab_link": true
    }
  },
  "cells": [
    {
      "cell_type": "markdown",
      "metadata": {
        "id": "view-in-github",
        "colab_type": "text"
      },
      "source": [
        "<a href=\"https://colab.research.google.com/github/meridethfrey/ResonanceCourse/blob/master/IntroToPython/02_Arrays_and_Plotting.ipynb\" target=\"_parent\"><img src=\"https://colab.research.google.com/assets/colab-badge.svg\" alt=\"Open In Colab\"/></a>"
      ]
    },
    {
      "cell_type": "markdown",
      "metadata": {
        "deletable": true,
        "editable": true,
        "id": "iOWqYM8vPO8t",
        "colab_type": "text"
      },
      "source": [
        "# Arrays and Plotting\n",
        "###Tutorial created by the Wellesley College Physics Department\n",
        "###Modifications by Merideth Frey at Sarah Lawrence College"
      ]
    },
    {
      "cell_type": "markdown",
      "metadata": {
        "deletable": true,
        "editable": true,
        "id": "BhIK9FeNPO8v",
        "colab_type": "text"
      },
      "source": [
        "Now that you've gotten Jupyter set up and running, and you've seen how you can use Jupyter as a calculator, we can turn our attention to some bigger tasks. In this tutorial, you will learn:\n",
        "\n",
        "* What NumPy arrays are, why they are useful, and how to use them\n",
        "* How to write *functions* and use NumPy arrays in them\n",
        "* How to make plots using `matplotlib`"
      ]
    },
    {
      "cell_type": "markdown",
      "metadata": {
        "deletable": true,
        "editable": true,
        "id": "20D75auQPO8w",
        "colab_type": "text"
      },
      "source": [
        "## NumPy Arrays"
      ]
    },
    {
      "cell_type": "markdown",
      "metadata": {
        "deletable": true,
        "editable": true,
        "id": "mAswuT9xPO8x",
        "colab_type": "text"
      },
      "source": [
        "Data structures that consist of an ordered arrangement of numerical values can be useful in many contexts. Here are just a few examples:\n",
        "\n",
        "* You're trying to determine the spring constant of a spring by measuring the force the spring exerts as you stretch the spring different distances. (You'd like to keep your measured set of forces together, and the order of the measurements matters.)\n",
        "* You're calculating the trajectory of a particle acted upon by some complicated force and want to know the particle positions at regular time intervals.\n",
        "\n",
        "Python has a built-in `list` object, but the numpy `array` object has a number of features that make it preferable for most computational work. We'll soon see what some of those features are, but first we need the `import` statements that allow us to use numpy, scipy, and matplotlib."
      ]
    },
    {
      "cell_type": "code",
      "metadata": {
        "deletable": true,
        "editable": true,
        "id": "pNiqiM94PO8x",
        "colab_type": "code",
        "colab": {}
      },
      "source": [
        "import numpy as np \n",
        "import matplotlib.pyplot as plt \n",
        "\n",
        "# we'll use the following parts of the scipy library for curve fitting\n",
        "# include now even though we won't use it in this tutorial\n",
        "import scipy.stats\n",
        "import scipy.optimize\n",
        "\n",
        "%matplotlib inline"
      ],
      "execution_count": 0,
      "outputs": []
    },
    {
      "cell_type": "markdown",
      "metadata": {
        "deletable": true,
        "editable": true,
        "id": "-aF5xudoPO83",
        "colab_type": "text"
      },
      "source": [
        "Let's begin by creating an array. In the next code cell, I *assign* the variable `wendy` to a *1-dimensional* array that I create \"by hand.\""
      ]
    },
    {
      "cell_type": "code",
      "metadata": {
        "deletable": true,
        "editable": true,
        "id": "EmEUNUN5PO84",
        "colab_type": "code",
        "colab": {}
      },
      "source": [
        "wendy = np.array([1, 1, 2, 3, 5, 8, 13])"
      ],
      "execution_count": 0,
      "outputs": []
    },
    {
      "cell_type": "markdown",
      "metadata": {
        "deletable": true,
        "editable": true,
        "id": "mRy_eobsPO86",
        "colab_type": "text"
      },
      "source": [
        "Assignment means that I can subsequently use the variable name `wendy` to refer to or act on the entire array object I just created. For instance,"
      ]
    },
    {
      "cell_type": "code",
      "metadata": {
        "deletable": true,
        "editable": true,
        "id": "mnJo_0MzPO87",
        "colab_type": "code",
        "outputId": "3ed9acf6-0db7-4e88-962f-920d417692ff",
        "colab": {
          "base_uri": "https://localhost:8080/",
          "height": 34
        }
      },
      "source": [
        "print(wendy)"
      ],
      "execution_count": 0,
      "outputs": [
        {
          "output_type": "stream",
          "text": [
            "[ 1  1  2  3  5  8 13]\n"
          ],
          "name": "stdout"
        }
      ]
    },
    {
      "cell_type": "markdown",
      "metadata": {
        "deletable": true,
        "editable": true,
        "id": "2SmI7BcKPO89",
        "colab_type": "text"
      },
      "source": [
        "The code above prints the array. The most important feature of arrays is the ability to perform mathematical operations on the **entire array at once**. Doing so makes for code that is easier to read and usually more efficient. For example, try some of the following for yourself:"
      ]
    },
    {
      "cell_type": "code",
      "metadata": {
        "deletable": true,
        "editable": true,
        "id": "1QW1_lBhPO8-",
        "colab_type": "code",
        "outputId": "640c9860-80c5-4575-9286-be1e837b74f7",
        "colab": {
          "base_uri": "https://localhost:8080/",
          "height": 51
        }
      },
      "source": [
        "print(wendy + 3)\n",
        "print(2 * wendy)"
      ],
      "execution_count": 0,
      "outputs": [
        {
          "output_type": "stream",
          "text": [
            "[ 4  4  5  6  8 11 16]\n",
            "[ 2  2  4  6 10 16 26]\n"
          ],
          "name": "stdout"
        }
      ]
    },
    {
      "cell_type": "markdown",
      "metadata": {
        "deletable": true,
        "editable": true,
        "id": "RZ1JU3u0PO9A",
        "colab_type": "text"
      },
      "source": [
        "(If you're familiar with Python `list` objects, you probably know that doing the same thing on a list requires explicit iteration over the list elements with a `for` or `while` loop. Don't worry if you haven't worked with `list` objects before and the previous sentence was gobbledygook.)\n",
        "\n",
        "I can create other arrays in a similar fashion and perform operations with multiple arrays:"
      ]
    },
    {
      "cell_type": "code",
      "metadata": {
        "deletable": true,
        "editable": true,
        "id": "mCUwMJljPO9B",
        "colab_type": "code",
        "outputId": "3cf1fb24-9213-405d-a737-cf610124ef79",
        "colab": {
          "base_uri": "https://localhost:8080/",
          "height": 34
        }
      },
      "source": [
        "winona = np.array([1, 1, 1, 1, 1, 1, 1])\n",
        "xena = np.array([1, 2, 3, 4, 5, 6, 7, 8])\n",
        "\n",
        "# we can also use Jupyter in a calculator-like manner with arrays\n",
        "wendy + winona"
      ],
      "execution_count": 0,
      "outputs": [
        {
          "output_type": "execute_result",
          "data": {
            "text/plain": [
              "array([ 2,  2,  3,  4,  6,  9, 14])"
            ]
          },
          "metadata": {
            "tags": []
          },
          "execution_count": 5
        }
      ]
    },
    {
      "cell_type": "markdown",
      "metadata": {
        "deletable": true,
        "editable": true,
        "id": "K9MHu3GvPO9D",
        "colab_type": "text"
      },
      "source": [
        "However, trying to perform operations on arrays that are not the same shape results in an exception (`wendy` has 7 elements whereas `xena` has 8):"
      ]
    },
    {
      "cell_type": "code",
      "metadata": {
        "deletable": true,
        "editable": true,
        "id": "_tvwHd2nPO9D",
        "colab_type": "code",
        "outputId": "62011bf4-300f-4225-b0c6-17294152fecb",
        "colab": {
          "base_uri": "https://localhost:8080/",
          "height": 164
        }
      },
      "source": [
        "wendy + xena"
      ],
      "execution_count": 0,
      "outputs": [
        {
          "output_type": "error",
          "ename": "ValueError",
          "evalue": "ignored",
          "traceback": [
            "\u001b[0;31m\u001b[0m",
            "\u001b[0;31mValueError\u001b[0mTraceback (most recent call last)",
            "\u001b[0;32m<ipython-input-6-eb1c0f3bbef7>\u001b[0m in \u001b[0;36m<module>\u001b[0;34m()\u001b[0m\n\u001b[0;32m----> 1\u001b[0;31m \u001b[0mwendy\u001b[0m \u001b[0;34m+\u001b[0m \u001b[0mxena\u001b[0m\u001b[0;34m\u001b[0m\u001b[0m\n\u001b[0m",
            "\u001b[0;31mValueError\u001b[0m: operands could not be broadcast together with shapes (7,) (8,) "
          ]
        }
      ]
    },
    {
      "cell_type": "markdown",
      "metadata": {
        "deletable": true,
        "editable": true,
        "id": "b6tIwTjQPO9G",
        "colab_type": "text"
      },
      "source": [
        "You can access specific elements of an array via *indexing*. Here are some examples:"
      ]
    },
    {
      "cell_type": "code",
      "metadata": {
        "deletable": true,
        "editable": true,
        "id": "5usmVP4oPO9G",
        "colab_type": "code",
        "outputId": "bd8c9767-a28e-471b-9ccd-8a85a955fd69",
        "colab": {
          "base_uri": "https://localhost:8080/",
          "height": 51
        }
      },
      "source": [
        "print(wendy[0]) # indices begin at 0\n",
        "print(wendy[2]) # therefore this is actually the 3rd element of the array"
      ],
      "execution_count": 0,
      "outputs": [
        {
          "output_type": "stream",
          "text": [
            "1\n",
            "2\n"
          ],
          "name": "stdout"
        }
      ]
    },
    {
      "cell_type": "code",
      "metadata": {
        "deletable": true,
        "editable": true,
        "id": "2_Biv9VePO9J",
        "colab_type": "code",
        "outputId": "00effe84-dcb1-4270-b876-c0432927dc4e",
        "colab": {
          "base_uri": "https://localhost:8080/",
          "height": 34
        }
      },
      "source": [
        "print(wendy[0:5]) # a range of indices, doesn't include the endpoint wendy[5]"
      ],
      "execution_count": 0,
      "outputs": [
        {
          "output_type": "stream",
          "text": [
            "[1 1 2 3 5]\n"
          ],
          "name": "stdout"
        }
      ]
    },
    {
      "cell_type": "code",
      "metadata": {
        "deletable": true,
        "editable": true,
        "id": "btwno7XOPO9L",
        "colab_type": "code",
        "outputId": "b3ae2c07-0c33-4201-a68f-07c9de4e877a",
        "colab": {
          "base_uri": "https://localhost:8080/",
          "height": 34
        }
      },
      "source": [
        "print(wendy[-1]) # last element"
      ],
      "execution_count": 0,
      "outputs": [
        {
          "output_type": "stream",
          "text": [
            "13\n"
          ],
          "name": "stdout"
        }
      ]
    },
    {
      "cell_type": "markdown",
      "metadata": {
        "deletable": true,
        "editable": true,
        "id": "jSVas8f-PO9N",
        "colab_type": "text"
      },
      "source": [
        "There are lots of other indexing tricks available -- see the [official documentation on indexing here](http://docs.scipy.org/doc/numpy/reference/arrays.indexing.html) and/or a much more extensive tutorial [here](http://www.scipy-lectures.org/intro/numpy/array_object.html) if you are interested.\n",
        "\n",
        "Arrays also have useful *methods*, which you can think of as operations that an array can perform on itself. The examples below show several possibilities as well as how to *call* a method:"
      ]
    },
    {
      "cell_type": "code",
      "metadata": {
        "deletable": true,
        "editable": true,
        "id": "spwfJv0bPO9O",
        "colab_type": "code",
        "outputId": "add55ed9-4c0a-485d-e881-78fe0f1ec49d",
        "colab": {
          "base_uri": "https://localhost:8080/",
          "height": 34
        }
      },
      "source": [
        "# add up all the elements\n",
        "wendy.sum()"
      ],
      "execution_count": 0,
      "outputs": [
        {
          "output_type": "execute_result",
          "data": {
            "text/plain": [
              "33"
            ]
          },
          "metadata": {
            "tags": []
          },
          "execution_count": 10
        }
      ]
    },
    {
      "cell_type": "code",
      "metadata": {
        "deletable": true,
        "editable": true,
        "id": "4ve2wXOxPO9Q",
        "colab_type": "code",
        "outputId": "0ca4de4e-3a1c-4dc5-cd4c-f23ee7da0d4e",
        "colab": {
          "base_uri": "https://localhost:8080/",
          "height": 34
        }
      },
      "source": [
        "# do the same thing on a different array\n",
        "xena.sum()"
      ],
      "execution_count": 0,
      "outputs": [
        {
          "output_type": "execute_result",
          "data": {
            "text/plain": [
              "36"
            ]
          },
          "metadata": {
            "tags": []
          },
          "execution_count": 11
        }
      ]
    },
    {
      "cell_type": "code",
      "metadata": {
        "deletable": true,
        "editable": true,
        "id": "gYyROzJQPO9T",
        "colab_type": "code",
        "outputId": "ffbb25b4-8bd9-4233-c9dd-c6528fbaf62f",
        "colab": {
          "base_uri": "https://localhost:8080/",
          "height": 34
        }
      },
      "source": [
        "print(wendy.min(), wendy.max()) # get minimum and maximum values"
      ],
      "execution_count": 0,
      "outputs": [
        {
          "output_type": "stream",
          "text": [
            "(1, 13)\n"
          ],
          "name": "stdout"
        }
      ]
    },
    {
      "cell_type": "markdown",
      "metadata": {
        "deletable": true,
        "editable": true,
        "id": "hZrxthhIPO9V",
        "colab_type": "text"
      },
      "source": [
        "***Exercise 1***\n",
        "\n",
        "Using the array `wendy` defined above, calculate the following by performing mathematical operations on `wendy`:\n",
        "\n",
        "$$\\frac{\\textrm{wendy}^2 + 7}{\\textrm{sum of elements in wendy}}$$"
      ]
    },
    {
      "cell_type": "markdown",
      "metadata": {
        "deletable": true,
        "editable": true,
        "id": "QZIv0Ny2PO9W",
        "colab_type": "text"
      },
      "source": [
        "## Writing functions"
      ]
    },
    {
      "cell_type": "markdown",
      "metadata": {
        "deletable": true,
        "editable": true,
        "id": "P8P6O4lrPO9W",
        "colab_type": "text"
      },
      "source": [
        "We now turn to writing *functions*. You have already used a number of Python functions, like `print`, as well as functions that are part of numpy such as `np.array`. Functions provide a useful way to *encapsulate* and reuse code for calculations. Writing functions will also be necessary when you fit models to data.\n",
        "\n",
        "The writing of functions is best illustrated through an example. The next code cell contains a rather silly example, but we'll use it to point out the important features."
      ]
    },
    {
      "cell_type": "code",
      "metadata": {
        "deletable": true,
        "editable": true,
        "id": "6DDUGt1lPO9X",
        "colab_type": "code",
        "colab": {}
      },
      "source": [
        "def sum_squares_of_elements(x):\n",
        "    '''\n",
        "    Add up the squares of each element of an input array x.\n",
        "    '''\n",
        "    # The next line makes x an array if it isn't one already.\n",
        "    x = np.asarray(x) \n",
        "    elements_squared = x**2\n",
        "    sum_of_elements_squared = elements_squared.sum()\n",
        "    return sum_of_elements_squared"
      ],
      "execution_count": 0,
      "outputs": []
    },
    {
      "cell_type": "markdown",
      "metadata": {
        "deletable": true,
        "editable": true,
        "id": "OjF8v4TGPO9a",
        "colab_type": "text"
      },
      "source": [
        "Here are the features to notice:\n",
        "\n",
        "* Function definitions must begin with `def`. The name of the function, in this case `sum_squares_of_elements`, follows.\n",
        "* Functions may have one or more input *arguments*. A function may have no arguments, but most of the ones you'll use and write in this course will have at least one. In this example, `x` is the single argument. The argument or arguments are enclosed in parentheses.\n",
        "* The `def` statement ends with a colon. Python is sensitive to indentation. If you want subsequent lines to be part of the function, they need to be indented (by convention, 4 spaces; Jupyter will do this for you automatically).\n",
        "* A comment string (delineated by three apostrophes) called a *documentation string* or *docstring* for short follows the `def` statement. This is optional, but it can be helpful for documenting what the function does. (Choosing sensible names is also a good idea. Don't give your functions a meaningless name like `qwerty17`.)\n",
        "* The code that the function will execute on its input arguments follows.\n",
        "* Usually, the results of a function are meant to be used, and you will want a function to `return` one or more arguments. A function is not required to return anything, and you can also return multiple arguments. What you return is arbitrary: in particular, you can return numbers as well as arrays.\n",
        "\n",
        "Now that the function is defined, I can use it by *calling* it. For example:"
      ]
    },
    {
      "cell_type": "code",
      "metadata": {
        "deletable": true,
        "editable": true,
        "id": "PH-Dg4FqPO9b",
        "colab_type": "code",
        "outputId": "92404b2e-67ed-44c0-8e13-1bc94e7b4530",
        "colab": {
          "base_uri": "https://localhost:8080/",
          "height": 34
        }
      },
      "source": [
        "sum_squares_of_elements(wendy)"
      ],
      "execution_count": 0,
      "outputs": [
        {
          "output_type": "execute_result",
          "data": {
            "text/plain": [
              "273"
            ]
          },
          "metadata": {
            "tags": []
          },
          "execution_count": 14
        }
      ]
    },
    {
      "cell_type": "code",
      "metadata": {
        "deletable": true,
        "editable": true,
        "id": "I7wo_p39PO9d",
        "colab_type": "code",
        "outputId": "6dbc3aee-ed1d-42e2-c9df-d5133c2dd32c",
        "colab": {
          "base_uri": "https://localhost:8080/",
          "height": 34
        }
      },
      "source": [
        "# Because of the np.asarray function, the function will work even if the input isn't an array\n",
        "sum_squares_of_elements(2)"
      ],
      "execution_count": 0,
      "outputs": [
        {
          "output_type": "execute_result",
          "data": {
            "text/plain": [
              "4"
            ]
          },
          "metadata": {
            "tags": []
          },
          "execution_count": 15
        }
      ]
    },
    {
      "cell_type": "code",
      "metadata": {
        "deletable": true,
        "editable": true,
        "id": "6-anYOZMPO9g",
        "colab_type": "code",
        "colab": {}
      },
      "source": [
        "# can call functions within other functions\n",
        "def sum_squares_of_elements_plus_n(x, n):\n",
        "    '''\n",
        "    Add a number n to the result of sum_squares_of_elements\n",
        "    '''\n",
        "    # for really simple things, calculations can happen within the return statement\n",
        "    return sum_squares_of_elements(x) + n"
      ],
      "execution_count": 0,
      "outputs": []
    },
    {
      "cell_type": "code",
      "metadata": {
        "deletable": true,
        "editable": true,
        "id": "z34nDq-aPO9n",
        "colab_type": "code",
        "outputId": "bdc520d2-dbbb-493c-e7cd-477997af8ad9",
        "colab": {
          "base_uri": "https://localhost:8080/",
          "height": 34
        }
      },
      "source": [
        "sum_squares_of_elements_plus_n(wendy, 3)"
      ],
      "execution_count": 0,
      "outputs": [
        {
          "output_type": "execute_result",
          "data": {
            "text/plain": [
              "276"
            ]
          },
          "metadata": {
            "tags": []
          },
          "execution_count": 17
        }
      ]
    },
    {
      "cell_type": "markdown",
      "metadata": {
        "deletable": true,
        "editable": true,
        "id": "WSNrgLp0PO9q",
        "colab_type": "text"
      },
      "source": [
        "So far, the functions in these examples use only mandatory, positional arguments. You will also encounter (but less frequently write) functions with optional *keyword arguments* that have a default value:"
      ]
    },
    {
      "cell_type": "code",
      "metadata": {
        "deletable": true,
        "editable": true,
        "id": "QxFLm_NZPO9r",
        "colab_type": "code",
        "outputId": "da2e5f88-023f-48c1-88a6-d68a21f73095",
        "colab": {
          "base_uri": "https://localhost:8080/",
          "height": 68
        }
      },
      "source": [
        "def sum_squares_of_elements_plus_n_with_kwarg(x, n = 1):\n",
        "    return sum_squares_of_elements(x) + n\n",
        "\n",
        "# if called with a single argument, the second argument n is supplied by default\n",
        "print(sum_squares_of_elements_plus_n_with_kwarg(wendy))\n",
        "\n",
        "# or can be called with a second argument, either by position or by explicit keyword\n",
        "print(sum_squares_of_elements_plus_n_with_kwarg(wendy, 3))\n",
        "print(sum_squares_of_elements_plus_n_with_kwarg(wendy, n = 3)) # does the same thing"
      ],
      "execution_count": 0,
      "outputs": [
        {
          "output_type": "stream",
          "text": [
            "274\n",
            "276\n",
            "276\n"
          ],
          "name": "stdout"
        }
      ]
    },
    {
      "cell_type": "markdown",
      "metadata": {
        "deletable": true,
        "editable": true,
        "id": "-SQZZ1s4PO9t",
        "colab_type": "text"
      },
      "source": [
        "***Exercise 2***\n",
        "\n",
        "Write a function that takes as input a numpy array and a second numerical parameter, `tau`, that returns an array where each element in the output contains the calculation\n",
        "$$ e^{-x / \\tau} $$\n",
        "for the corresponding value $x$ in the input array."
      ]
    },
    {
      "cell_type": "markdown",
      "metadata": {
        "deletable": true,
        "editable": true,
        "id": "mZRuzIJ5PO9t",
        "colab_type": "text"
      },
      "source": [
        "## Plotting"
      ]
    },
    {
      "cell_type": "markdown",
      "metadata": {
        "deletable": true,
        "editable": true,
        "id": "BaJzMNIVPO9u",
        "colab_type": "text"
      },
      "source": [
        "We will now turn to making basic plots. We point out a few key features here, but there is much more you can learn from reading the [matplotlib documentation](http://matplotlib.org/api/pyplot_summary.html).\n",
        "\n",
        "Let's start off with an example."
      ]
    },
    {
      "cell_type": "code",
      "metadata": {
        "deletable": true,
        "editable": true,
        "id": "4Tc_ueKxPO9u",
        "colab_type": "code",
        "outputId": "114b2692-d093-4377-8cbd-e73dac8e02f6",
        "colab": {
          "base_uri": "https://localhost:8080/",
          "height": 286
        }
      },
      "source": [
        "foo = np.array([0, 1, 2, 3, 4, 5])\n",
        "foo_times_two = 2. * foo\n",
        "\n",
        "plt.plot(foo, foo_times_two)"
      ],
      "execution_count": 0,
      "outputs": [
        {
          "output_type": "execute_result",
          "data": {
            "text/plain": [
              "[<matplotlib.lines.Line2D at 0x7f01194654d0>]"
            ]
          },
          "metadata": {
            "tags": []
          },
          "execution_count": 22
        },
        {
          "output_type": "display_data",
          "data": {
            "image/png": "[encoded data removed]",
            "text/plain": [
              "<Figure size 432x288 with 1 Axes>"
            ]
          },
          "metadata": {
            "tags": []
          }
        }
      ]
    },
    {
      "cell_type": "markdown",
      "metadata": {
        "deletable": true,
        "editable": true,
        "id": "PgI7l9RxPO9x",
        "colab_type": "text"
      },
      "source": [
        "The basic plotting command is `plt.plot()`. In the above example, there were two arguments to `plt.plot()`:\n",
        "\n",
        "* First argument: the variable to be plotted on the $x$ axis\n",
        "* Second argument: the variable to be plotted on the $y$ axis\n",
        "\n",
        "If no other arguments are given, the points are joined by continuous line segments. This may not always be desirable, and the behavior can be changed by an optional third argument:"
      ]
    },
    {
      "cell_type": "code",
      "metadata": {
        "deletable": true,
        "editable": true,
        "id": "DGDhJCm-PO9y",
        "colab_type": "code",
        "outputId": "427ccdd5-0d94-4124-a2db-fc4ae35c6898",
        "colab": {
          "base_uri": "https://localhost:8080/",
          "height": 286
        }
      },
      "source": [
        "plt.plot(foo, foo_times_two, 'bo')"
      ],
      "execution_count": 0,
      "outputs": [
        {
          "output_type": "execute_result",
          "data": {
            "text/plain": [
              "[<matplotlib.lines.Line2D at 0x7f0116b83590>]"
            ]
          },
          "metadata": {
            "tags": []
          },
          "execution_count": 23
        },
        {
          "output_type": "display_data",
          "data": {
            "image/png": "[encoded data removed]",
            "text/plain": [
              "<Figure size 432x288 with 1 Axes>"
            ]
          },
          "metadata": {
            "tags": []
          }
        }
      ]
    },
    {
      "cell_type": "markdown",
      "metadata": {
        "deletable": true,
        "editable": true,
        "id": "jgWX2OyIPO90",
        "colab_type": "text"
      },
      "source": [
        "Here, the third argument, the format string `'bo'`, results in blue circles. The 'b' stands for blue, and the 'o' gives circles. \n",
        "\n",
        "Other colors are available, including [g]reen, [r]ed, [c]yan, [y]ellow, [m]agenta, and blac[k]. \n",
        "\n",
        "A full list of plotting markers is available [here](http://matplotlib.org/api/markers_api.html). Commonly used ones include `V`, `^`, `<`, `>` (triangles facing in different directions), `.` (small points), and `s` (squares).\n",
        "\n",
        "Try some formatting options of your own in the above plot!\n",
        "\n",
        "There are some other niceties that you might want to include. A few examples are illustrated in the cell below:"
      ]
    },
    {
      "cell_type": "code",
      "metadata": {
        "deletable": true,
        "editable": true,
        "id": "NkKXogs5PO91",
        "colab_type": "code",
        "outputId": "6c77feea-a6a0-4215-fbfb-0b1408a239d8",
        "colab": {
          "base_uri": "https://localhost:8080/",
          "height": 421
        }
      },
      "source": [
        "plt.figure(figsize=(8,6)) # make plots larger (nominal size in inches)\n",
        "# actual on-screen size may vary depending on your computer browser\n",
        "plt.plot(foo, foo_times_two, 'bo-') # include continuous lines between points\n",
        "plt.xlim((-1, 6)) # change x-axis limits\n",
        "plt.ylim((-2, 12)) # change y-axis limits\n",
        "plt.xlabel('String with some actual label') # label the x-axis\n",
        "plt.ylabel('Some other appropriate label', size=12) # label the y-axis\n",
        "# keyword argument above increases the font size to 12 pt\n",
        "plt.title('Give your plots better titles than this') # title"
      ],
      "execution_count": 0,
      "outputs": [
        {
          "output_type": "execute_result",
          "data": {
            "text/plain": [
              "Text(0.5,1,'Give your plots better titles than this')"
            ]
          },
          "metadata": {
            "tags": []
          },
          "execution_count": 24
        },
        {
          "output_type": "display_data",
          "data": {
            "image/png": "[encoded data removed]",
            "text/plain": [
              "<Figure size 576x432 with 1 Axes>"
            ]
          },
          "metadata": {
            "tags": []
          }
        }
      ]
    },
    {
      "cell_type": "markdown",
      "metadata": {
        "deletable": true,
        "editable": true,
        "id": "c-D677GmPO93",
        "colab_type": "text"
      },
      "source": [
        "Other types of plots are possible, including:\n",
        "\n",
        "* semilog plots (use `plt.semilogx` for logarithmic scaling on the $x$ axis and `plt.semilogy` for logarithmic scaling on the $y$ axis)\n",
        "* log-log plots (`plt.loglog`)\n",
        "\n",
        "Again, see the matplotlib documentation for the many other possibilities."
      ]
    },
    {
      "cell_type": "markdown",
      "metadata": {
        "deletable": true,
        "editable": true,
        "id": "FafR-bX7PO93",
        "colab_type": "text"
      },
      "source": [
        "## Two useful commands for plotting mathematical functions"
      ]
    },
    {
      "cell_type": "markdown",
      "metadata": {
        "deletable": true,
        "editable": true,
        "id": "WbEzkJJ7PO94",
        "colab_type": "text"
      },
      "source": [
        "Very often you'll want to plot some mathematical function (either a built-in function or one you've written) over some range of arguments. You might, for instance, want to generate an evenly spaced set of points between two values. There is a nice way to do this via the `np.linspace` function:"
      ]
    },
    {
      "cell_type": "code",
      "metadata": {
        "deletable": true,
        "editable": true,
        "id": "Yx3H5EIgPO94",
        "colab_type": "code",
        "outputId": "45b93b34-42ca-4381-cadd-9d9e6db392c5",
        "colab": {
          "base_uri": "https://localhost:8080/",
          "height": 51
        }
      },
      "source": [
        "# np.linspace takes 3 arguments: start, stop (inclusive), number of points\n",
        "np.linspace(1, 5, 10)"
      ],
      "execution_count": 0,
      "outputs": [
        {
          "output_type": "execute_result",
          "data": {
            "text/plain": [
              "array([1.        , 1.44444444, 1.88888889, 2.33333333, 2.77777778,\n",
              "       3.22222222, 3.66666667, 4.11111111, 4.55555556, 5.        ])"
            ]
          },
          "metadata": {
            "tags": []
          },
          "execution_count": 25
        }
      ]
    },
    {
      "cell_type": "markdown",
      "metadata": {
        "deletable": true,
        "editable": true,
        "id": "vF7M34pKPO96",
        "colab_type": "text"
      },
      "source": [
        "There's another way to do this: the function np.arange:"
      ]
    },
    {
      "cell_type": "code",
      "metadata": {
        "deletable": true,
        "editable": true,
        "id": "f72YtP7CPO97",
        "colab_type": "code",
        "outputId": "aa07dc97-c919-4de0-f72c-2e1c1cc899fd",
        "colab": {
          "base_uri": "https://localhost:8080/",
          "height": 51
        }
      },
      "source": [
        "# np.arange takes 3 arguments: start, stop (not inclusive)\n",
        "# and an optional 3rd argument that is the step size.\n",
        "# If step size not included, default step size is 1\n",
        "np.arange(1, 5, 0.2)"
      ],
      "execution_count": 0,
      "outputs": [
        {
          "output_type": "execute_result",
          "data": {
            "text/plain": [
              "array([1. , 1.2, 1.4, 1.6, 1.8, 2. , 2.2, 2.4, 2.6, 2.8, 3. , 3.2, 3.4,\n",
              "       3.6, 3.8, 4. , 4.2, 4.4, 4.6, 4.8])"
            ]
          },
          "metadata": {
            "tags": []
          },
          "execution_count": 27
        }
      ]
    },
    {
      "cell_type": "markdown",
      "metadata": {
        "deletable": true,
        "editable": true,
        "id": "lvfB3cTtPO99",
        "colab_type": "text"
      },
      "source": [
        "***Exercise 3***\n",
        "\n",
        "Make a graph that plots the $\\textrm{sinc}$ function, defined such that\n",
        "\n",
        "$$\\textrm{sinc}\\, x = \\frac{\\sin x}{x} \\  \\ \\ \\ \\ (x\\ne 0) $$\n",
        "\n",
        "$$\\textrm{sinc}\\, x = 1 \\ \\ \\ \\ \\  (x = 0) $$\n",
        "\n",
        "(This function arises in the formal theory of diffraction by a rectangular slit.) Plot $\\textrm{sinc}\\,x$ for $x$ between -10 and 10. \n",
        "\n",
        "Hint: the $\\textrm{sinc}$ function has already been defined in numpy as `np.sinc`."
      ]
    },
    {
      "cell_type": "markdown",
      "metadata": {
        "deletable": true,
        "editable": true,
        "id": "3PQvbE1QPO9-",
        "colab_type": "text"
      },
      "source": [
        "***Exercise 4***\n",
        "\n",
        "This exercise is the culmination of the things you've learned so far.\n",
        "\n",
        "1. Take the function you wrote in Exercise 2. Plot it on a linear scale for some reasonable range of values of $x$ for $\\tau = 1$.\n",
        "2. On the same axes, plot the same function for several different values of $\\tau$. (You can issue multiple `plt.plot` commands within the same cell.)\n",
        "\n",
        "Two extensions if you have time:\n",
        "\n",
        "3. Try making the same plots on semi-log scale that's logarithmic in $y$. What do your graphs look like, and does this make sense?\n",
        "4. Look up the plt.legend function (use the built-in help or Google it) and use it to create a legend on one or both of your graphs."
      ]
    },
    {
      "cell_type": "markdown",
      "metadata": {
        "deletable": true,
        "editable": true,
        "id": "b9wyOPmXPO9-",
        "colab_type": "text"
      },
      "source": [
        "Having learned the basics of arrays and plotting, you are now ready to proceed to the next tutorial, [03_Introduction_to_Curve_Fitting](03_Introduction_to_Curve_Fitting.ipynb)."
      ]
    },
    {
      "cell_type": "code",
      "metadata": {
        "deletable": true,
        "editable": true,
        "id": "-UbIDiboPO9_",
        "colab_type": "code",
        "colab": {}
      },
      "source": [
        ""
      ],
      "execution_count": 0,
      "outputs": []
    }
  ]
}