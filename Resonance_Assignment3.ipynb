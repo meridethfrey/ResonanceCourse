{
  "nbformat": 4,
  "nbformat_minor": 0,
  "metadata": {
    "colab": {
      "name": "Resonance_Assignment3.ipynb",
      "provenance": [],
      "collapsed_sections": [],
      "toc_visible": true,
      "authorship_tag": "ABX9TyOFCVe9ebDb2mqOoJI0W26s",
      "include_colab_link": true
    },
    "kernelspec": {
      "name": "python3",
      "display_name": "Python 3"
    }
  },
  "cells": [
    {
      "cell_type": "markdown",
      "metadata": {
        "id": "view-in-github",
        "colab_type": "text"
      },
      "source": [
        "<a href=\"https://colab.research.google.com/github/meridethfrey/ResonanceCourse/blob/master/Resonance_Assignment3.ipynb\" target=\"_parent\"><img src=\"https://colab.research.google.com/assets/colab-badge.svg\" alt=\"Open In Colab\"/></a>"
      ]
    },
    {
      "cell_type": "markdown",
      "metadata": {
        "id": "mCyjLHBajkDO",
        "colab_type": "text"
      },
      "source": [
        "#Assignment 3\n",
        "Save a copy of this to your own Google Drive, edit your copy, and share your edited version with Merideth (meri.frey@gmail.com) by **noon on Monday** to submit your assignment.\n",
        "\n",
        "Before completing this assignment, it is assumed you have worked through:\n",
        "- [03_Introduction_to_Curve_Fitting.ipynb](https://colab.research.google.com/drive/11rUJc8iYBY8QiJHWcbyXtXT79R62O1Of)\n"
      ]
    },
    {
      "cell_type": "code",
      "metadata": {
        "id": "SkJfiA3uR8dk",
        "colab_type": "code",
        "colab": {}
      },
      "source": [
        "import numpy as np \n",
        "import matplotlib.pyplot as plt \n",
        "import scipy.stats\n",
        "import scipy.optimize # we'll use this now\n",
        "%matplotlib inline"
      ],
      "execution_count": 0,
      "outputs": []
    },
    {
      "cell_type": "markdown",
      "metadata": {
        "id": "Vd87RDgMk06W",
        "colab_type": "text"
      },
      "source": [
        "##Question 1\n",
        "Here you will be using the following data taken from the same spring experiment discussed in the tutorial:\n",
        "\n",
        "|Displacement (m)| Force (N) |\n",
        "|------|------|\n",
        "| 0.025 | 0.98 |\n",
        "| 0.064 | 1.96|\n",
        "| 0.085 | 2.45|\n",
        "| 0.100 | 2.94 |\n",
        "\n",
        "In the code cell below...\n",
        "*   Input the data into numpy arrays.\n",
        "*   Fit a linear line to this data set using the `scipy.optimize.curve_fit` function.\n",
        "*   Plot the results (experimental data and line of best fit).\n",
        "*   Determine the spring constant given by the fit for this dataset and its uncertainty.\n"
      ]
    },
    {
      "cell_type": "code",
      "metadata": {
        "id": "axHSTneDO9nr",
        "colab_type": "code",
        "colab": {}
      },
      "source": [
        ""
      ],
      "execution_count": 0,
      "outputs": []
    },
    {
      "cell_type": "markdown",
      "metadata": {
        "id": "0bMYd8-9lOpH",
        "colab_type": "text"
      },
      "source": [
        "##Question 2\n",
        "Here you will be analyzing some decaying free vibration data acquired during class with the single spring system ($k \\approx 2.92 \\pm 0.02$ N/m and $M = 0.0792$ kg). I have taken this data and formatted it nicely and saved it in 'FreeDecay.csv' (found in the 'Assignment' folder in the shared CoLab folder). You will need to download the file to your computer, and then upload the file to your personal copy of this Google Colaboratory notebook using the folder icon 'Files' on the left side of the CoLab frame.\n",
        "\n",
        "In the code cell below...\n",
        "*   Read in your data file using `np.loadtxt()`\n",
        "*   Fit data set using the `scipy.optimize.curve_fit` function and the model curve defined below. *Note: you may have to make your own initial parameter values to get a good fit.*\n",
        "*   Plot the results (both the experimental data and the line of best fit).\n",
        "*   Determine the frequency `f` and the decay time constant `tau` for this data, along with their uncertainties. "
      ]
    },
    {
      "cell_type": "code",
      "metadata": {
        "id": "gCZV16wTXmTa",
        "colab_type": "code",
        "colab": {}
      },
      "source": [
        "def free_decay_model(t, A, f, tau):\n",
        "    '''\n",
        "    Model function for a decaying sinusoidal function with respect to t\n",
        "    A = amplitude\n",
        "    f = frequency of oscillation (in Hertz)\n",
        "    tau = time constant\n",
        "    '''\n",
        "    return A*np.exp(-t/tau)*np.cos(2*np.pi*f*t)"
      ],
      "execution_count": 0,
      "outputs": []
    },
    {
      "cell_type": "markdown",
      "metadata": {
        "id": "7pwT1FGzm3OG",
        "colab_type": "text"
      },
      "source": [
        "##Question 3\n",
        "Any questions about the material covered so far that you want to go over in class?"
      ]
    },
    {
      "cell_type": "markdown",
      "metadata": {
        "id": "9Itqm8ccX1hE",
        "colab_type": "text"
      },
      "source": [
        ""
      ]
    }
  ]
}