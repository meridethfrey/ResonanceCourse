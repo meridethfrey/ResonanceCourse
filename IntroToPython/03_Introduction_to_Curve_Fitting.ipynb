{
  "nbformat": 4,
  "nbformat_minor": 0,
  "metadata": {
    "anaconda-cloud": {},
    "kernelspec": {
      "display_name": "Python 2",
      "language": "python",
      "name": "python2"
    },
    "language_info": {
      "codemirror_mode": {
        "name": "ipython",
        "version": 2
      },
      "file_extension": ".py",
      "mimetype": "text/x-python",
      "name": "python",
      "nbconvert_exporter": "python",
      "pygments_lexer": "ipython2",
      "version": "2.7.13"
    },
    "colab": {
      "name": "03_Introduction_to_Curve_Fitting.ipynb",
      "provenance": [],
      "collapsed_sections": [],
      "include_colab_link": true
    }
  },
  "cells": [
    {
      "cell_type": "markdown",
      "metadata": {
        "id": "view-in-github",
        "colab_type": "text"
      },
      "source": [
        "<a href=\"https://colab.research.google.com/github/meridethfrey/ResonanceCourse/blob/master/IntroToPython/03_Introduction_to_Curve_Fitting.ipynb\" target=\"_parent\"><img src=\"https://colab.research.google.com/assets/colab-badge.svg\" alt=\"Open In Colab\"/></a>"
      ]
    },
    {
      "cell_type": "markdown",
      "metadata": {
        "deletable": true,
        "editable": true,
        "id": "eVK_1H1gPPxx",
        "colab_type": "text"
      },
      "source": [
        "# Introduction to Curve Fitting (and reading data from a file)\n",
        "###Tutorial developed by the Wellesley College Physics Department\n",
        "###Modifications by Merideth Frey at Sarah Lawrence College"
      ]
    },
    {
      "cell_type": "markdown",
      "metadata": {
        "deletable": true,
        "editable": true,
        "id": "wjkdgMEhPPx1",
        "colab_type": "text"
      },
      "source": [
        "Let's recap what you've accomplished so far:\n",
        "\n",
        "* You've installed a scientific Python distribution and become familiar with the basics of Jupyter notebooks\n",
        "* You've gotten some practice working with numpy arrays.\n",
        "* You've learned how to write functions.\n",
        "* You've learned how to make plots using matplotlib.\n",
        "\n",
        "We will now draw on those skills as we introduce *curve fitting*. In this tutorial, you will\n",
        "\n",
        "* Learn how to read data in from a file\n",
        "* Use `np.polyfit()` to fit a polynomial (including a line) to a dataset\n",
        "* Be introduced to the theory of least-squares fitting\n",
        "* Become able to distinguish between linear least squares problems and nonlinear least squares problems\n",
        "* Learn to use a nonlinear least squares fitting routine, `scipy.optimize.curve_fit`.\n",
        "\n",
        "We first begin with the usual import statements."
      ]
    },
    {
      "cell_type": "code",
      "metadata": {
        "deletable": true,
        "editable": true,
        "id": "Q5l4-bdEPPx3",
        "colab_type": "code",
        "colab": {}
      },
      "source": [
        "import numpy as np\n",
        "import matplotlib.pyplot as plt\n",
        "import scipy.stats\n",
        "import scipy.optimize # we'll use this now\n",
        "%matplotlib inline"
      ],
      "execution_count": 0,
      "outputs": []
    },
    {
      "cell_type": "markdown",
      "metadata": {
        "deletable": true,
        "editable": true,
        "id": "YM6C09QcPPx5",
        "colab_type": "text"
      },
      "source": [
        "## Reading data from a file\n",
        "You'll often have a dataset that you want to load and analyze. Depending on the format of the data, this can be straightforward or complex.  One way to read in the data is to write your own code that opens a file, loops over all lines in the file and parses the lines to extract the values you care about.  But often, built-in functions will work just fine (no need to write your own).  Here, we introduce a useful tool, `np.loadtxt()`, that can read data from a file and generate an array for each column."
      ]
    },
    {
      "cell_type": "code",
      "metadata": {
        "deletable": true,
        "editable": true,
        "id": "rv4nHa5bPPx6",
        "colab_type": "code",
        "outputId": "cf51382b-31c4-4b73-bed2-5f282e4c2d74",
        "colab": {
          "base_uri": "https://localhost:8080/",
          "height": 351
        }
      },
      "source": [
        "###################################################\n",
        "# First, we generate data and write it to a file\n",
        "# IF YOU ALREADY HAVE A DATASET, YOU SHOULD SKIP THIS STEP!\n",
        "# The file will look like;\n",
        "#0.000000, 0.000000, 0.000000\n",
        "#1.000000, 2.000000, 1.000000\n",
        "#2.000000, 4.000000, 4.000000\n",
        "#...\n",
        "# 9.000000, 18.000000, 81.000000\n",
        "filename = 'test.dat'\n",
        "fout = open(filename, 'w')\n",
        "for ii in range(5):\n",
        "    fout.write(\"%f, %f, %f\\n\" % (ii, 2*ii, ii**2))\n",
        "fout.close()\n",
        "\n",
        "#####################################################\n",
        "# Next, we'll read that file back in.\n",
        "# Notice that each column is separated from the next by a comma\n",
        "# We can use this \"delimiter\" to tell np.loadtxt() how to parse the file\n",
        "# The keyword/value \"unpack=True\" tells loadtxt() to return the data as a set of 1D arrays,\n",
        "# which we assign to the variables x, y, and z\n",
        "x, y, z = np.loadtxt(filename, delimiter=',', unpack=True)\n",
        "print(\"x = \", x)\n",
        "print(\"y = \", y)\n",
        "print(\"z = \", z)\n",
        "# Now plot the data (a useful check that we read the values in correctly)\n",
        "plt.plot(x, y, 'ko-', label=\"$y=2x$\")\n",
        "plt.plot(x, z, 'ro-', label=\"$z=x^2$\")\n",
        "plt.xlabel('x [arb. units]')\n",
        "plt.ylabel('y or z [arb. units]')\n",
        "plt.legend(loc=\"upper left\")"
      ],
      "execution_count": 0,
      "outputs": [
        {
          "output_type": "stream",
          "text": [
            "('x = ', array([0., 1., 2., 3., 4.]))\n",
            "('y = ', array([0., 2., 4., 6., 8.]))\n",
            "('z = ', array([ 0.,  1.,  4.,  9., 16.]))\n"
          ],
          "name": "stdout"
        },
        {
          "output_type": "execute_result",
          "data": {
            "text/plain": [
              "<matplotlib.legend.Legend at 0x7fb01d805590>"
            ]
          },
          "metadata": {
            "tags": []
          },
          "execution_count": 4
        },
        {
          "output_type": "display_data",
          "data": {
            "image/png": "[encoded data removed]",
            "text/plain": [
              "<Figure size 432x288 with 1 Axes>"
            ]
          },
          "metadata": {
            "tags": []
          }
        }
      ]
    },
    {
      "cell_type": "markdown",
      "metadata": {
        "id": "bIzGfBpLisWu",
        "colab_type": "text"
      },
      "source": [
        "Next we are going to upload a data file that we can read in (this can be generated from other software, like the 'PocketLab' app or any spreadsheet program). The data file I want you to use is 'TestData.tsv' which has the displacement and force data acquired for a particular spring in the lab."
      ]
    },
    {
      "cell_type": "code",
      "metadata": {
        "id": "U0BT-_l7fgil",
        "colab_type": "code",
        "outputId": "286a582f-20c8-485c-ae3c-b70df2388394",
        "colab": {
          "base_uri": "https://localhost:8080/",
          "height": 347
        }
      },
      "source": [
        "#####################################################\n",
        "# Here we are going to read in the file 'TestData.tsv'\n",
        "#'.tsv' stands for 'tab separated values'\n",
        "# (likewise '.csv' stands for 'comma  separated values').\n",
        "# Any spreadsheet program can save data as a text file with a specific\n",
        "# 'delimiter' separating the values (e.g. the tab or comma).\n",
        "# We can use this \"delimiter\" to tell np.loadtxt() how to parse the file.\n",
        "# The keyword/value \"unpack=True\" tells loadtxt() to return the data as a set of\n",
        "# 1D arrays, which we assign to the variables x and y.\n",
        "# The keyword/value \"skiprows=1\" tells loadtxt() to skip the first row in its\n",
        "# parsing since the data starts in the 2nd row\n",
        "disp, force = np.loadtxt('TestData.tsv', delimiter='\\t', unpack=True, skiprows=1)\n",
        "print(\"disp = \", disp)\n",
        "print(\"force = \", force)\n",
        "# Now plot the data (a useful check that we read the values in correctly)\n",
        "plt.plot(disp, force, 'bo', label=\"Spring A\")\n",
        "plt.xlabel('Displacement [m]')\n",
        "plt.ylabel('Force [N]')\n",
        "plt.title('$F=kx$')\n",
        "plt.legend(loc=\"upper left\")"
      ],
      "execution_count": 0,
      "outputs": [
        {
          "output_type": "stream",
          "text": [
            "('disp = ', array([0.005, 0.015, 0.035, 0.05 ]))\n",
            "('force = ', array([0.392, 0.784, 1.764, 2.744]))\n"
          ],
          "name": "stdout"
        },
        {
          "output_type": "execute_result",
          "data": {
            "text/plain": [
              "<matplotlib.legend.Legend at 0x7fb01abf00d0>"
            ]
          },
          "metadata": {
            "tags": []
          },
          "execution_count": 6
        },
        {
          "output_type": "display_data",
          "data": {
            "image/png": "[encoded data removed]",
            "text/plain": [
              "<Figure size 432x288 with 1 Axes>"
            ]
          },
          "metadata": {
            "tags": []
          }
        }
      ]
    },
    {
      "cell_type": "markdown",
      "metadata": {
        "deletable": true,
        "editable": true,
        "id": "xoDfsKF8PPx8",
        "colab_type": "text"
      },
      "source": [
        "## Simple fits (when your model is a linear function of its parameters)\n",
        "Now that we know how to read data in from a file, we can again make use of built-in functions to fit a model to data.  When the model is a linear function of the model parameters, e.g. a line, or, in fact, any polynomial:\n",
        "  $$ y(x) = p_0 + p_1 x^1 + p_2 x^2 + ... + p_N x^n $$\n",
        "there is a closed-form solution for the Least Squares fit (see below for details about what \"Least Squares\" means).  Note, by \"a linear function of the parameters\", we just mean that each parameter, $p_0$, ..., $p_N$ appears to the first power in the model.  \n",
        "\n",
        "Numpy has a function called `np.polyfit()` that will fit a polynomial to your data to find the $p_0$, $p_1$, ..., $p_N$.  You just need to give it the data (x and y), and tell it what $N$ is: should the model be a line ($N=1$), a quadratic ($N=2$), a cubic ($N=3$), etc.\n",
        "\n",
        "Numpy also has a helper function called `np.poly1d()` to make it easy to use the output of `np.polyfit()`.  We'll demonstrate both below."
      ]
    },
    {
      "cell_type": "code",
      "metadata": {
        "deletable": true,
        "editable": true,
        "id": "ZB1vSItQPPx9",
        "colab_type": "code",
        "outputId": "ce29ef6b-1288-431e-9937-c5f7028268b2",
        "colab": {
          "base_uri": "https://localhost:8080/",
          "height": 354
        }
      },
      "source": [
        "# add some noise to the data we read in above\n",
        "z = z + np.random.uniform(low=-1, high=1, size=z.size) # add in random numbers from -1 to 1.\n",
        "print(\"z=\", z)  # your values may vary slightly, since we're adding in random numbers\n",
        "\n",
        "pfit = np.polyfit(x, z, 2) # \"2\" means a polynomial of \"degree N=2\" (a quadratic)\n",
        "print(\"pfit = \", pfit)     # print out the best fit values: p_2, p_1, p_0\n",
        "\n",
        "mypoly = np.poly1d(pfit)   # use the helper function np.poly1d() to generate the best-fit curve\n",
        "print(mypoly)              # Shows the functional form of the fit\n",
        "\n",
        "# make an array of 100 points over the range of interest to overplot the best-fit function\n",
        "xfit = np.linspace(min(x), max(x), num=100) # 100 evenly spaced points over the data range\n",
        "yfit = mypoly(xfit)                         # the best-fit values over that same range\n",
        "\n",
        "# plot the data and the fit\n",
        "plt.plot(x, z, 'ko', label=\"Data\")\n",
        "plt.plot(xfit, yfit, 'r-', label= \"Best fit\")\n",
        "plt.legend(loc=\"upper left\")"
      ],
      "execution_count": 0,
      "outputs": [
        {
          "output_type": "stream",
          "text": [
            "('z=', array([-0.18595682, -0.32302996,  3.77881317,  8.622266  , 14.93223261]))\n",
            "('pfit = ', array([ 0.9739778 ,  0.02225628, -0.52351437]))\n",
            "       2\n",
            "0.974 x + 0.02226 x - 0.5235\n"
          ],
          "name": "stdout"
        },
        {
          "output_type": "execute_result",
          "data": {
            "text/plain": [
              "<matplotlib.legend.Legend at 0x7fb01aac9950>"
            ]
          },
          "metadata": {
            "tags": []
          },
          "execution_count": 9
        },
        {
          "output_type": "display_data",
          "data": {
            "image/png": "[encoded data removed]",
            "text/plain": [
              "<Figure size 432x288 with 1 Axes>"
            ]
          },
          "metadata": {
            "tags": []
          }
        }
      ]
    },
    {
      "cell_type": "markdown",
      "metadata": {
        "id": "m4I2I8pklA9j",
        "colab_type": "text"
      },
      "source": [
        "***Exercise 1***\n",
        "\n",
        "Fit a linear line to the spring data set,'TestData.tsv', plot the results and print the spring constant given by the fit."
      ]
    },
    {
      "cell_type": "markdown",
      "metadata": {
        "deletable": true,
        "editable": true,
        "id": "LeDfWBmaPPx_",
        "colab_type": "text"
      },
      "source": [
        "## Theoretical Background\n",
        "### Least Squares Fitting"
      ]
    },
    {
      "cell_type": "markdown",
      "metadata": {
        "deletable": true,
        "editable": true,
        "id": "ykhPG3nPPPyA",
        "colab_type": "text"
      },
      "source": [
        "Suppose we have a set of $n$ points $\\{ x_i, y_i \\}$ from experimental measurements. We are usually seeking to fit some mathematical function to the experimentally measured points. The function can be written in a general way as\n",
        "\n",
        "$$ f(x; p_j) $$\n",
        "\n",
        "where the $p_j$ represent a set of $m$ unknown *parameters*. \n",
        "\n",
        "As an example, consider a linear function:\n",
        "\n",
        "$$ f(x; \\{A, B\\}) = A + Bx$$\n",
        "\n",
        "Here, there are two parameters to be determined by fitting, the y-intercept $A$ and the slope $B$.\n",
        "\n",
        "The general objective in the curve-fitting problem is to find optimal values for the parameters $p_{j,opt}$ such that $f(x_i; p_{j,opt})$ is a \"best fit\" to the measured points $y_i$. How can \"best fit\" be defined in a quantitative way? One way is by considering the *residuals* for some set of parameters $p_j$. For a given set $p_j$ and data point $x_i$, the $i$th residual $r_i$ is defined such that\n",
        "\n",
        "$$r_i = y_i - f(x_i; p_j)$$\n",
        "\n",
        "Note that $r_i=0$ if the value $f(x_i;p_j)$ exactly equals the measured point $y_i$. \n",
        "\n",
        "The most common definition of $p_{j,opt}$ is that they are the set of $p_j$ such that the quantity $\\chi^2$ (chi-squared), defined as \n",
        "\n",
        "$$\\chi^2 \\equiv \\sum_{i}^n r_i^2 $$\n",
        "\n",
        "is *minimized*. Determining the *best-fit parameters* $p_{j,opt}$ using this criterion is called *least-squares fitting*."
      ]
    },
    {
      "cell_type": "markdown",
      "metadata": {
        "deletable": true,
        "editable": true,
        "id": "36gN2yo9PPyA",
        "colab_type": "text"
      },
      "source": [
        "***Exercise 2***\n",
        "\n",
        "Explain why is it not a good idea to minimize the sum of the residuals\n",
        "\n",
        "$$\\sum_{i}^n r_i$$\n",
        "\n",
        "and why minimizing $\\chi^2$ is preferable."
      ]
    },
    {
      "cell_type": "markdown",
      "metadata": {
        "deletable": true,
        "editable": true,
        "id": "FhhoUGYxPPyB",
        "colab_type": "text"
      },
      "source": [
        "### Linear vs. nonlinear least squares"
      ]
    },
    {
      "cell_type": "markdown",
      "metadata": {
        "deletable": true,
        "editable": true,
        "id": "stuR39ttPPyB",
        "colab_type": "text"
      },
      "source": [
        "There are two cases of the least-squares fitting problem that are worth distinguishing:\n",
        "\n",
        "**Linear least squares**: The function $f$ for which you are determining unknown parameters is *linear* in the parameters. That is, $f(x;p_j)$ can be written in the form\n",
        "\n",
        "$$f(x; p_j) = p_0 + p_1g_1(x) + p_2g_2(x) + p_3g_3(x) + \\ldots $$\n",
        "\n",
        "where the $g_k(x)$ are arbitrary functions of the measurements $x$. In other words, each parameter $p_j$ appears in $f$ at most once, appears by itself, and is raised to the power 1.\n",
        "\n",
        "The simplest example of a function that is linear in the parameters is the linear function\n",
        "\n",
        "$$f(x; \\{A,B\\}) = A + Bx$$\n",
        "\n",
        "discussed above. But a function that is *linear in the parameters* need not be linear in $x$. For instance,\n",
        "\n",
        "$$f(x; \\{p_0, p_1, p_2\\}) = p_0 + p_1x + p_2x^2 $$\n",
        "\n",
        "is linear in the parameters even though it is quadratic in $x$.\n",
        "\n",
        "A formal analytic solution is possible to the general linear least squares problem. See Taylor, \"An Introduction to Error Analysis,\" Ch. 8 for a detailed discussion of the analytic solution for the important special case of a line: $f = A + Bx$. \n",
        "\n",
        "**Nonlinear least squares**: The function $f$ is not linear in the parameters. (Some functions that would be nonlinear in the parameters would be $\\sin(x)$ or $\\exp(x)$ which are represented by infinite series). \n",
        "\n",
        "The general case of nonlinear least squares cannot be solved analytically and requires a numerical solution. Fortunately, `scipy.optimize.curve_fit` is a robust nonlinear least squares fitter. Since linear least squares is a special case of the more general nonlinear least squares problem, any algorithm that can handle nonlinear least squares problems can also handle linear least squares problems.\n",
        "\n",
        "### Linearization\n",
        "Note that some nonlinear least squares problems can be *linearized*. For instance, suppose your data could be modeled by \n",
        "\n",
        "$$ y = p_0\\exp\\left( -\\frac{t}{p_1}  \\right)$$\n",
        "\n",
        "Taking the natural logarithm of both sides gives\n",
        "\n",
        "$$ \\ln y = \\ln p_0 - \\frac{t}{p_1} $$\n",
        "\n",
        "You could then fit a straight line to the points $(t_i, \\ln y_i)$ with y-intercept $\\ln p_0$ and slope $-1/p_1$ -- something you could do with linear least squares. However, the uncertainties in the measured $y$ values are tricky to handle correctly in this way (see further discussion in Taylor, pp. 194-196). We will therefore not pursue linearization further in this first tutorial.\n",
        "\n",
        "In the rest of this tutorial, we'll learn to use `scipy.optimize.curve_fit` on a simple fitting problem."
      ]
    },
    {
      "cell_type": "markdown",
      "metadata": {
        "deletable": true,
        "editable": true,
        "id": "QOCPGurqPPyC",
        "colab_type": "text"
      },
      "source": [
        "## Using `scipy.optimize.curve_fit`"
      ]
    },
    {
      "cell_type": "markdown",
      "metadata": {
        "deletable": true,
        "editable": true,
        "id": "bM2VcBzFPPyC",
        "colab_type": "text"
      },
      "source": [
        "Let's consider a hypothetical experiment to test Hooke's law for a spring:\n",
        "\n",
        "$$ \\left|\\vec{F}_{spring}\\right| = ks$$\n",
        "\n",
        "where $s$ is the distance the spring is stretched and $k$ is the spring constant. Our goal will be to determine the spring constant $k$. Suppose you carry out this experiment by attaching a spring to a force sensor. You record the displacement of the end of the spring and measure the force exerted by the spring at each displacement. Imagine that you've collected the following data:\n",
        "\n",
        "|Displacement (m)| Force (N) |\n",
        "|------|------|\n",
        "| 0.03 | 0.25 |\n",
        "| 0.05 | 0.85 |\n",
        "| 0.07 | 1.20 |\n",
        "| 0.10 | 1.90 |\n",
        "| 0.12 | 2.50 |\n",
        "| 0.14 | 2.95 |\n",
        "| 0.16 | 3.50 |\n",
        "| 0.18 | 4.10 |\n",
        "| 0.20 | 4.80 |\n",
        "\n",
        "Let's begin the analysis by making appropriate data arrays. For a small number of data points like this, it is easiest to input data by hand. In subsequent sessions we'll discuss other ways to read data from files."
      ]
    },
    {
      "cell_type": "code",
      "metadata": {
        "deletable": true,
        "editable": true,
        "id": "oSeeWVu4PPyD",
        "colab_type": "code",
        "colab": {}
      },
      "source": [
        "displacements = np.array([0.03, 0.05, 0.07, 0.10, 0.12, 0.14, 0.16, 0.18, 0.20]) # meters\n",
        "forces = np.array([0.25, 0.85, 1.20, 1.90, 2.50, 2.95, 3.50, 4.10, 4.80]) # newtons"
      ],
      "execution_count": 0,
      "outputs": []
    },
    {
      "cell_type": "markdown",
      "metadata": {
        "deletable": true,
        "editable": true,
        "id": "CU_nb896PPyF",
        "colab_type": "text"
      },
      "source": [
        "Now let's make a quick plot. It is good to check visually that the data seems to be described by the function we want to fit (according to Hooke's law, a straight line.)"
      ]
    },
    {
      "cell_type": "code",
      "metadata": {
        "deletable": true,
        "editable": true,
        "id": "ZjJVZWAYPPyG",
        "colab_type": "code",
        "outputId": "403ca031-62cf-492b-cc04-0531d65aeaa8",
        "colab": {
          "base_uri": "https://localhost:8080/",
          "height": 300
        }
      },
      "source": [
        "plt.plot(displacements, forces, 'bo')\n",
        "plt.xlabel('Displacement (m)')\n",
        "plt.ylabel('Spring force (N)')"
      ],
      "execution_count": 0,
      "outputs": [
        {
          "output_type": "execute_result",
          "data": {
            "text/plain": [
              "Text(0,0.5,'Spring force (N)')"
            ]
          },
          "metadata": {
            "tags": []
          },
          "execution_count": 11
        },
        {
          "output_type": "display_data",
          "data": {
            "image/png": "[encoded data removed]",
            "text/plain": [
              "<Figure size 432x288 with 1 Axes>"
            ]
          },
          "metadata": {
            "tags": []
          }
        }
      ]
    },
    {
      "cell_type": "markdown",
      "metadata": {
        "deletable": true,
        "editable": true,
        "id": "vH9Q_DnOPPyJ",
        "colab_type": "text"
      },
      "source": [
        "The graph looks basically linear, which is good. Notice, however, that it does not look as though the $y$ intercept is 0, which is what we'd expect if the measured displacement was equal to the distance the spring stretched. Perhaps there was some systematic offset in our measurement of the displacement or the zeroing of the force sensor. For now, we'll deal with this by fitting a line with a nonzero y-intercept\n",
        "\n",
        "$$f(x; \\{A, B\\}) = A + Bx$$\n",
        "\n",
        "to the data. To be clear, here $x$ will be our measured displacements.\n",
        "\n",
        "To use `scipy.optimize.curve_fit`, we need to first define a *model function* that takes the independent variable (in our case, the displacements) as its first argument and the fit parameters as the remaining arguments. The model function needs to return the model's prediction for the dependent variable (in our case, the measured forces). We do that in the code cell below:"
      ]
    },
    {
      "cell_type": "code",
      "metadata": {
        "deletable": true,
        "editable": true,
        "id": "1Pazg-MQPPyK",
        "colab_type": "code",
        "colab": {}
      },
      "source": [
        "def straight_line_model(x, A, B):\n",
        "    '''\n",
        "    Model function for a straight-line fit with y-intercept A and slope B.\n",
        "    '''\n",
        "    return A + B * x"
      ],
      "execution_count": 0,
      "outputs": []
    },
    {
      "cell_type": "markdown",
      "metadata": {
        "deletable": true,
        "editable": true,
        "id": "iMNZlNBhPPyO",
        "colab_type": "text"
      },
      "source": [
        "Now we can call `scipy.optimize.curve_fit`. For simple usage, we can do the following:\n",
        "\n",
        "```python\n",
        "popt, pcov = scipy.optimize.curve_fit(straight_line_model, displacements, forces)\n",
        "```\n",
        "\n",
        "Breaking this down:\n",
        "\n",
        "* The first argument to `curve_fit` is the name of the model function, here `straight_line_model`.\n",
        "* The second argument is an array containing the independent variable (here, our spring displacements).\n",
        "* The third argument is an array containing the measured dependent variable (here, our measured forces).\n",
        "* The first argument returned from `curve_fit`, `popt`, is an array of best-fit parameters $p_{j,opt}$ found by the `curve_fit` algorithm.\n",
        "* The second argument returned from `curve_fit`, `pcov`, is the *covariance matrix*. We won't give a formal statistical definition here except to say that the uncertainty in the parameters can be determined from this matrix.\n",
        "\n",
        "(If you want more details, here is [the official documentation for curve_fit](http://docs.scipy.org/doc/scipy/reference/generated/scipy.optimize.curve_fit.html). If you want to know more about the default algorithm used by `curve_fit`, the Levenberg-Marquardt algorithm, here's a link to the [Wikipedia entry](https://en.wikipedia.org/wiki/Levenberg%E2%80%93Marquardt_algorithm). You can also read about it in Section 15.5 of the canonical numerical methods text \"Numerical Recipes in C\" by Press et al., accessible [here](http://apps.nrbook.com/c/index.html).)\n",
        "\n",
        "Here we go, then:"
      ]
    },
    {
      "cell_type": "code",
      "metadata": {
        "deletable": true,
        "editable": true,
        "id": "I4FBueCiPPyQ",
        "colab_type": "code",
        "outputId": "31ef90c0-215d-4877-ad80-eddb6384b9a6",
        "colab": {
          "base_uri": "https://localhost:8080/",
          "height": 85
        }
      },
      "source": [
        "popt, pcov = scipy.optimize.curve_fit(straight_line_model, displacements, forces)\n",
        "print('best-fit parameters: ', popt)\n",
        "print('covariance matrix: ')\n",
        "print(pcov)"
      ],
      "execution_count": 0,
      "outputs": [
        {
          "output_type": "stream",
          "text": [
            "('best-fit parameters: ', array([-0.58207434, 25.98920863]))\n",
            "covariance matrix: \n",
            "[[ 0.00753446 -0.05263595]\n",
            " [-0.05263595  0.45116529]]\n"
          ],
          "name": "stdout"
        }
      ]
    },
    {
      "cell_type": "markdown",
      "metadata": {
        "deletable": true,
        "editable": true,
        "id": "FlGKggj0PPyT",
        "colab_type": "text"
      },
      "source": [
        "(Notice that `pcov` is not quite like the arrays we've previously worked with: it is a 2-dimensional array. This is a helpful data structure for saving image data or matrices, but you will not need to use them in this course.)\n",
        "\n",
        "We have therefore determined that the best-fit intercept is -0.582 m and the best-fit slope is 26.0 N/m. It turns out that the square root of the diagonal elements of the covariance matrix `pcov` gives the uncertainty in the best-fit parameters (assuming the experimental uncertainties in the measured force values are all the same). We can calculate this as follows:"
      ]
    },
    {
      "cell_type": "code",
      "metadata": {
        "deletable": true,
        "editable": true,
        "id": "Bj0yG6PJPPyT",
        "colab_type": "code",
        "outputId": "264f9745-1515-43ef-cce8-78041cfc3f36",
        "colab": {
          "base_uri": "https://localhost:8080/",
          "height": 34
        }
      },
      "source": [
        "popt_uncertainties = np.sqrt(np.diag(pcov)) # get the diagonal elements then take sqrt\n",
        "print('uncertainties: ', popt_uncertainties)"
      ],
      "execution_count": 0,
      "outputs": [
        {
          "output_type": "stream",
          "text": [
            "('uncertainties: ', array([0.08680127, 0.67168839]))\n"
          ],
          "name": "stdout"
        }
      ]
    },
    {
      "cell_type": "markdown",
      "metadata": {
        "deletable": true,
        "editable": true,
        "id": "F2Hd7O2tPPyV",
        "colab_type": "text"
      },
      "source": [
        "We can therefore report \n",
        "\n",
        "$$A = -0.58 \\pm 0.09 \\ \\textrm{m}$$\n",
        "\n",
        "$$B = 26.0 \\pm 0.7 \\ \\textrm{N/m}$$\n",
        "\n",
        "as the best-fit slope and intercept determined by the fit.\n",
        "\n",
        "We also want to check that the best-fit parameter values indeed fit the data. Again, it is useful to make a plot to check:"
      ]
    },
    {
      "cell_type": "code",
      "metadata": {
        "deletable": true,
        "editable": true,
        "id": "7PLczdXHPPyW",
        "colab_type": "code",
        "outputId": "eeb9f3ac-f348-4ed0-87b5-732264f25767",
        "colab": {
          "base_uri": "https://localhost:8080/",
          "height": 312
        }
      },
      "source": [
        "# calculate best fit model values\n",
        "displacement_for_plot = np.linspace(0, displacements.max(), 50)\n",
        "best_fit_line = straight_line_model(displacement_for_plot, popt[0], popt[1])\n",
        "\n",
        "# plot\n",
        "plt.plot(displacements, forces, 'bo')\n",
        "plt.plot(displacement_for_plot, best_fit_line, 'b') # plot with a solid line\n",
        "plt.xlabel('Displacement (m)')\n",
        "plt.ylabel('Spring force (N)')\n",
        "plt.title('Determination of spring constant')\n",
        "plt.text(0.01, 4, 'Slope: 26.0 +/- 0.7 N/m')\n",
        "plt.text(0.01, 3.5, 'Intercept: -0.58 +/- 0.09 m')"
      ],
      "execution_count": 0,
      "outputs": [
        {
          "output_type": "execute_result",
          "data": {
            "text/plain": [
              "Text(0.01,3.5,'Intercept: -0.58 +/- 0.09 m')"
            ]
          },
          "metadata": {
            "tags": []
          },
          "execution_count": 15
        },
        {
          "output_type": "display_data",
          "data": {
            "image/png": "[encoded data removed]",
            "text/plain": [
              "<Figure size 432x288 with 1 Axes>"
            ]
          },
          "metadata": {
            "tags": []
          }
        }
      ]
    },
    {
      "cell_type": "markdown",
      "metadata": {
        "deletable": true,
        "editable": true,
        "id": "VNtx1_hQPPyY",
        "colab_type": "text"
      },
      "source": [
        "In the last two lines I wrote the best-fit parameters on the graph using `plt.text()`. The first argument to `plt.text()` is the $x$ coordinate of the printed text (in the units of the graph axes), the second is the $y$ coordinate, and the third is the string to be printed. (There are fancier ways to do this, but for now the quick-and-dirty way illustrated above will do.)\n",
        "\n",
        "It can also be useful to plot the residuals:"
      ]
    },
    {
      "cell_type": "code",
      "metadata": {
        "deletable": true,
        "editable": true,
        "id": "Wf_OAQtnPPyZ",
        "colab_type": "code",
        "outputId": "d18a6f23-b53a-4684-cdc3-6a8bd45e628a",
        "colab": {
          "base_uri": "https://localhost:8080/",
          "height": 301
        }
      },
      "source": [
        "plt.plot(displacements, forces - straight_line_model(displacements, popt[0], popt[1]), 'bo')\n",
        "plt.xlabel('Displacement (m)')\n",
        "plt.ylabel('Residuals (N)')"
      ],
      "execution_count": 0,
      "outputs": [
        {
          "output_type": "execute_result",
          "data": {
            "text/plain": [
              "Text(0,0.5,'Residuals (N)')"
            ]
          },
          "metadata": {
            "tags": []
          },
          "execution_count": 16
        },
        {
          "output_type": "display_data",
          "data": {
            "image/png": "[encoded data removed]",
            "text/plain": [
              "<Figure size 432x288 with 1 Axes>"
            ]
          },
          "metadata": {
            "tags": []
          }
        }
      ]
    },
    {
      "cell_type": "markdown",
      "metadata": {
        "deletable": true,
        "editable": true,
        "id": "m2-KJa-iPPyb",
        "colab_type": "text"
      },
      "source": [
        "In general, the residuals should look random if the model describes the data well and each measurement was subject to some purely random error. In this case there seems to be a systematic trend -- the residuals are positive for small and large displacements, and negative in the middle. Often, the presence of systematic trends in the residuals suggests that the model we fit is not entirely appropriate. We might consider investigating further (perhaps the spring is not Hookean), but for the purpose of this tutorial we'll choose to stop here.\n",
        "\n",
        "### Giving `scipy.optimize.curve_fit` initial parameter values\n",
        "\n",
        "The Levenberg-Marquardt algorithm behind `scipy.optimize.curve_fit` requires some initial initial guess for the best-fit parameter values. The default initial guess values (if you don't specify your own) are 1 for all your parameters. This often works (as in our examples above). But, sometimes the curve fitter will not converge to physically sensible values if the initial guess values are very far off from the best-fit values. It can then be necessary to provide estimates of the initial guess values. Here's how you can do it (using the Hooke's law data above):"
      ]
    },
    {
      "cell_type": "code",
      "metadata": {
        "deletable": true,
        "editable": true,
        "id": "9cdgCN84PPyb",
        "colab_type": "code",
        "outputId": "4bb533b9-df83-4525-a78a-a2e9056e6f35",
        "colab": {
          "base_uri": "https://localhost:8080/",
          "height": 85
        }
      },
      "source": [
        "# Define an array with initial guess values\n",
        "guess = np.array([20., -1.])\n",
        "\n",
        "popt_guess, pcov_guess = scipy.optimize.curve_fit(straight_line_model, displacements, forces,\n",
        "                                                 p0 = guess)\n",
        "print('best-fit parameters: ', popt_guess)\n",
        "print('covariance matrix: ')\n",
        "print(pcov_guess)"
      ],
      "execution_count": 0,
      "outputs": [
        {
          "output_type": "stream",
          "text": [
            "('best-fit parameters: ', array([-0.58207434, 25.98920864]))\n",
            "covariance matrix: \n",
            "[[ 0.00753446 -0.05263595]\n",
            " [-0.05263595  0.45116528]]\n"
          ],
          "name": "stdout"
        }
      ]
    },
    {
      "cell_type": "markdown",
      "metadata": {
        "deletable": true,
        "editable": true,
        "id": "V20kDHFrPPyd",
        "colab_type": "text"
      },
      "source": [
        "You have now been introduced to a very powerful and general framework for curve fitting. Unlike the linear regressions built into most spreadsheet programs, you can now use `scipy` to perform fits of much more general model functions. These skills will be very handing going forward!"
      ]
    },
    {
      "cell_type": "markdown",
      "metadata": {
        "id": "4TXL1w5BuCJs",
        "colab_type": "text"
      },
      "source": [
        "***Exercise 2***\n",
        "\n",
        "For the same spring data set used in Exercise 1, 'TestData.tsv', use `scipy.optimize.curve_fit` to find the spring constant and uncertainty from fitting with a linear function and calculating the uncertainties in the fit parameters."
      ]
    },
    {
      "cell_type": "code",
      "metadata": {
        "deletable": true,
        "editable": true,
        "id": "Whb_b3p_PPye",
        "colab_type": "code",
        "colab": {}
      },
      "source": [
        ""
      ],
      "execution_count": 0,
      "outputs": []
    }
  ]
}