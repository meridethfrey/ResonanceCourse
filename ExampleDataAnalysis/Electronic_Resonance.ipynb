{
  "nbformat": 4,
  "nbformat_minor": 0,
  "metadata": {
    "colab": {
      "name": "Electronic Resonance",
      "provenance": [],
      "collapsed_sections": [],
      "toc_visible": true,
      "authorship_tag": "ABX9TyMCaMVsEWJL2Y0XWsMWXhaL",
      "include_colab_link": true
    },
    "kernelspec": {
      "name": "python3",
      "display_name": "Python 3"
    }
  },
  "cells": [
    {
      "cell_type": "markdown",
      "metadata": {
        "id": "view-in-github",
        "colab_type": "text"
      },
      "source": [
        "<a href=\"https://colab.research.google.com/github/meridethfrey/ResonanceCourse/blob/master/ExampleDataAnalysis/Electronic_Resonance.ipynb\" target=\"_parent\"><img src=\"https://colab.research.google.com/assets/colab-badge.svg\" alt=\"Open In Colab\"/></a>"
      ]
    },
    {
      "cell_type": "markdown",
      "metadata": {
        "id": "mCyjLHBajkDO",
        "colab_type": "text"
      },
      "source": [
        "#Introduction\n",
        "The purpose of this notebook is to provide an example of the type of things I would like to see included in your lab report on electronic resonance.\n",
        "\n",
        "***Note:***\n",
        "*I want you to do your own work, so take this as guidance for what you can do, but try to do all the LaTeXing and coding yourself, with this as a guideline to check yourself. Debugging things is a key skill I want you to practice!*\n"
      ]
    },
    {
      "cell_type": "markdown",
      "metadata": {
        "id": "Vd87RDgMk06W",
        "colab_type": "text"
      },
      "source": [
        "##Theory\n",
        "Ultimately, we want to see how the model for RLC circuits matches the experimental setup we created in the lab. If we apply the following AC voltage $V_\\textrm{in}(t) = V_0 cos(\\omega t)$ to a series RLC circuit and measure the output voltage over the resistor, we expect:\n",
        "$$V_\\textrm{out} = |V_R| \\cos (\\omega t - \\delta)$$\n",
        "\n",
        "where\n",
        "\n",
        "$$ |V_R| = \\frac{V_0 \\gamma \\omega}{\\sqrt{\\gamma^2 \\omega^2 + (\\omega^2 - \\omega_0^2)^2}}$$\n",
        "\n",
        "and\n",
        "\n",
        "$$ \\delta = \\arctan \\left( \\frac{\\omega^2 - \\omega_0^2}{\\gamma \\omega} \\right). $$\n",
        "\n",
        "Here the resonance (angular) frequency is given by $\\omega_0 = 1/ \\sqrt{LC}$ and the resonance width is given by $\\gamma = R/L$.\n",
        "\n",
        "The quality factor is given by $Q = \\omega_0 / \\gamma$.\n",
        "\n",
        "Note that we expect the output voltage to lead the input voltage for lower frequencies, be in phase with the input voltage at resonance, and lag behind the input voltage for higher frequencies."
      ]
    },
    {
      "cell_type": "markdown",
      "metadata": {
        "id": "0bMYd8-9lOpH",
        "colab_type": "text"
      },
      "source": [
        "#Experimental Method\n",
        "Here you should explain the equipment used, experimental setup, and your experimental procedure. \n",
        "\n",
        "* Name for instrument providing input AC voltage -> function generator\n",
        "\n",
        "* Name for instrument measuring the output voltage -> oscilloscope\n",
        "\n",
        "* Would be good to provide a circuit diagram for the series RLC circuit we are using. Check out: https://www.circuit-diagram.org/editor/ \n",
        "\n",
        "* If you have an image on your computer that you want to include, you can try uploading your image to [Imgur](https://imgur.com/upload) (or some other image upload service) and then saving the link to the image (which appears when hovering over the image).\n",
        "\n",
        "  * *When using the 'Insert image' button in the edit toolbar, you might need to add '.jpg' at the end of the image link to get image to  display correctly!*\n",
        "\n",
        "![RLC Circuit Diagram](https://imgur.com/XlII6Ir.jpg)\n",
        "\n",
        "\n",
        "\n",
        "**This circuit diagram isn't quite right, try to make yours match the picture of the setup I included below! The actual values for the resistor is 330 $\\Omega$, inductance is ~ 1 mH, and capacitance is 0.1 $\\mu$F.**\n",
        "\n",
        "![This could be a caption](https://imgur.com/PLjcUjz.jpg)\n",
        "\n",
        "You can acquire the relevant data by viewing the video I made found at https://www.youtube.com/watch?v=EAyRL0buOj8&feature=youtu.be .\n",
        "\n",
        "* Consider what physical parameters you can measure from this data. (Be sure to read the caption in the YouTube video to know what is being shown!)\n",
        "  * $V_0$ (the amplitude of the input voltage -> blue trace)\n",
        "  * $f$ (the driven frequency and from that can get $\\omega = 2 \\pi f$)\n",
        "  * amplitude of the output voltage -> yellow trace\n",
        "  * an idea of how the phase of the output voltage compares with the input voltage as the frequency is changed.\n",
        "\n",
        "* I am adjusting the frequency knob of the function generator during this film, what then is the independent variable, and what would the dependent variable be?\n",
        "* How do you want to plot the data, and what should the fit function be?\n",
        "* If you do a curve fit, what will be the input parameters, and what will be the fitting parameters?\n",
        "* From the fit, what can we hope to learn about our circuit that we didn't know previously? \n",
        "\n",
        "\n"
      ]
    },
    {
      "cell_type": "markdown",
      "metadata": {
        "id": "7pwT1FGzm3OG",
        "colab_type": "text"
      },
      "source": [
        "#Data Analysis\n",
        "Here you should input your data and do your analysis.\n",
        "\n",
        "**Be sure to add an explanatory text cell explaining what is going on in each code cell you include!**\n",
        "* Include plots of your data that are nicely labelled to display your data. (Do NOT print out arrays, no one wants to see that!)\n",
        "* Include any curve fitting and be sure to show the fit parameters with uncertainties."
      ]
    },
    {
      "cell_type": "markdown",
      "metadata": {
        "id": "XmbAgISbeg7W",
        "colab_type": "text"
      },
      "source": [
        "The cell below imports all the necessary libraries to use for data analysis."
      ]
    },
    {
      "cell_type": "code",
      "metadata": {
        "id": "SkJfiA3uR8dk",
        "colab_type": "code",
        "colab": {}
      },
      "source": [
        "import numpy as np \n",
        "import matplotlib.pyplot as plt \n",
        "import scipy.optimize # we'll use this now\n",
        "%matplotlib inline"
      ],
      "execution_count": 0,
      "outputs": []
    },
    {
      "cell_type": "markdown",
      "metadata": {
        "id": "PcuF7WPVepnO",
        "colab_type": "text"
      },
      "source": [
        "The cell below defines the resonance model we will be using to fit the data."
      ]
    },
    {
      "cell_type": "code",
      "metadata": {
        "id": "ZScb1qZPewYW",
        "colab_type": "code",
        "colab": {}
      },
      "source": [
        "def resonance_curve_model (omega, V0, omega0, gamma):\n",
        "    '''\n",
        "    Model function for resonance\n",
        "    V0 = input voltage amplitude\n",
        "    omega = angular frequency (radians per second)\n",
        "    omega0 = natural resonant angular frequency\n",
        "    gamma = damping coefficient\n",
        "    '''\n",
        "    return (V0*gamma*omega)/np.sqrt((omega**2 - omega0**2) **2+ (gamma*omega)**2)"
      ],
      "execution_count": 0,
      "outputs": []
    },
    {
      "cell_type": "markdown",
      "metadata": {
        "id": "tXH2MNaj9LfJ",
        "colab_type": "text"
      },
      "source": [
        "Example code to fit the resonance curve from amplitude and frequency arrays."
      ]
    },
    {
      "cell_type": "code",
      "metadata": {
        "id": "D0G62Gyp9Kbm",
        "colab_type": "code",
        "outputId": "6df4ea8b-81b5-4c30-c2ba-2fd217ba02e9",
        "colab": {
          "base_uri": "https://localhost:8080/",
          "height": 380
        }
      },
      "source": [
        "amplitude = np.array([0.101,0.242,0.07,0.171])\n",
        "frequency = np.array([0.514,0.551,0.505,0.529])\n",
        "omega = 2*np.pi*frequency \n",
        "\n",
        "guess = [0.3, 3.41, 0.13]\n",
        "popt, pcov = scipy.optimize.curve_fit(resonance_curve_model, omega, amplitude, p0 = guess)\n",
        "print('best-fit parameters: ', popt)\n",
        "\n",
        "popt_uncertainties = np.sqrt(np.diag(pcov)) # get the diagonal elements then take sqrt\n",
        "print('uncertainties: ', popt_uncertainties)\n",
        "\n",
        "# calculate best fit model values\n",
        "xfit = np.linspace(0, omega.max(), 400)\n",
        "yfit = resonance_curve_model(xfit, popt[0], popt[1], popt[2])\n",
        "#yfit = driven_model(xfit, guess[0],guess[1],guess[2])\n",
        "\n",
        "# plot\n",
        "plt.plot(omega, amplitude, 'bo')\n",
        "plt.plot(xfit, yfit, 'r') # plot with a solid line\n",
        "plt.xlabel('$\\omega$')\n",
        "plt.ylabel('$|V_R|$')\n",
        "plt.title('Resonance curve')\n",
        "\n",
        "print('V_0 = ', popt[0], ' +/- ', popt_uncertainties[0])\n",
        "print('omega0 = ', popt[1], ' +/- ', popt_uncertainties[1])\n",
        "print('gamma = ', popt[2], ' +/- ', popt_uncertainties[2])"
      ],
      "execution_count": 0,
      "outputs": [
        {
          "output_type": "stream",
          "text": [
            "best-fit parameters:  [0.29702053 3.41510228 0.13094235]\n",
            "uncertainties:  [0.03430233 0.00662649 0.02702163]\n",
            "V_0 =  0.2970205341732644  +/-  0.03430232612281574\n",
            "omega0 =  3.4151022797052435  +/-  0.006626489946372562\n",
            "gamma =  0.13094234708244462  +/-  0.027021634028611644\n"
          ],
          "name": "stdout"
        },
        {
          "output_type": "display_data",
          "data": {
            "image/png": "[encoded data removed]",
            "text/plain": [
              "<Figure size 432x288 with 1 Axes>"
            ]
          },
          "metadata": {
            "tags": []
          }
        }
      ]
    },
    {
      "cell_type": "code",
      "metadata": {
        "id": "9xzy6Q5u9JW4",
        "colab_type": "code",
        "colab": {}
      },
      "source": [
        ""
      ],
      "execution_count": 0,
      "outputs": []
    },
    {
      "cell_type": "markdown",
      "metadata": {
        "id": "C2CSZ_DJsLVr",
        "colab_type": "text"
      },
      "source": [
        "# Discussion\n",
        "This is where you talk about your results and how it compared to the theory.\n",
        "\n",
        "* Was the model a good fit for the experimental data?\n",
        "* If there are clear discrepancies with the theory, identify systematic errors resulting from assumptions that are the most likely explanations.\n",
        "* What information can you get from the data that we didn't know before (e.g. Q factor, resonance frequency, good estimate for the value of the inductance).\n",
        "* Any ideas for future experiments to improve upon your work?"
      ]
    },
    {
      "cell_type": "markdown",
      "metadata": {
        "id": "9Itqm8ccX1hE",
        "colab_type": "text"
      },
      "source": [
        ""
      ]
    }
  ]
}