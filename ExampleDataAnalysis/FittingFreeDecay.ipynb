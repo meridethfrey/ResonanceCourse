{
  "nbformat": 4,
  "nbformat_minor": 0,
  "metadata": {
    "colab": {
      "name": "FittingFreeDecay",
      "provenance": [],
      "collapsed_sections": [],
      "toc_visible": true,
      "authorship_tag": "ABX9TyNxQGjgIXjGMvC+Y1R46sED",
      "include_colab_link": true
    },
    "kernelspec": {
      "name": "python3",
      "display_name": "Python 3"
    }
  },
  "cells": [
    {
      "cell_type": "markdown",
      "metadata": {
        "id": "view-in-github",
        "colab_type": "text"
      },
      "source": [
        "<a href=\"https://colab.research.google.com/github/meridethfrey/ResonanceCourse/blob/master/ExampleDataAnalysis/FittingFreeDecay.ipynb\" target=\"_parent\"><img src=\"https://colab.research.google.com/assets/colab-badge.svg\" alt=\"Open In Colab\"/></a>"
      ]
    },
    {
      "cell_type": "markdown",
      "metadata": {
        "id": "mCyjLHBajkDO",
        "colab_type": "text"
      },
      "source": [
        "#Fitting Free Decay Data\n",
        "Save a copy of this to your own Google Drive, edit your copy, and share your edited version with Merideth (meri.frey@gmail.com) by **noon on Monday** to submit your assignment.\n",
        "\n",
        "Before completing this assignment, it is assumed you have worked through:\n",
        "- [03_Introduction_to_Curve_Fitting.ipynb](https://colab.research.google.com/drive/11rUJc8iYBY8QiJHWcbyXtXT79R62O1Of)\n"
      ]
    },
    {
      "cell_type": "code",
      "metadata": {
        "id": "SkJfiA3uR8dk",
        "colab_type": "code",
        "colab": {}
      },
      "source": [
        "import numpy as np \n",
        "import matplotlib.pyplot as plt \n",
        "import scipy.stats\n",
        "import scipy.optimize # we'll use this now\n",
        "%matplotlib inline"
      ],
      "execution_count": 0,
      "outputs": []
    },
    {
      "cell_type": "markdown",
      "metadata": {
        "id": "0bMYd8-9lOpH",
        "colab_type": "text"
      },
      "source": [
        "##Assignment 3 - Question 2\n",
        "Here you will be analyzing some decaying free vibration data acquired during class with the single spring system ($k \\approx 2.92 \\pm 0.02$ N/m and $M = 0.0792$ kg). I have taken this data and formatted it nicely and saved it in 'FreeDecay.csv' (found in the 'Assignment' folder in the shared CoLab folder). You will need to download the file to your computer, and then upload the file to your personal copy of this Google Colaboratory notebook using the folder icon 'Files' on the left side of the CoLab frame.\n",
        "\n",
        "In the code cell below...\n",
        "*   Read in your data file using `np.loadtxt()`\n",
        "*   Fit data set using the `scipy.optimize.curve_fit` function and the model curve defined below. *Note: you may have to make your own initial parameter values to get a good fit.*\n",
        "*   Plot the results (both the experimental data and the line of best fit).\n",
        "*   Determine the frequency `f` and the decay time constant `tau` for this data, along with their uncertainties. "
      ]
    },
    {
      "cell_type": "code",
      "metadata": {
        "id": "gCZV16wTXmTa",
        "colab_type": "code",
        "colab": {}
      },
      "source": [
        "def free_decay_model(t, A, f, tau):\n",
        "    '''\n",
        "    Model function for a decaying sinusoidal function with respect to t\n",
        "    A = amplitude\n",
        "    f = frequency of oscillation (in Hertz)\n",
        "    tau = time constant\n",
        "    '''\n",
        "    return A*np.exp(-t/tau)*np.cos(2*np.pi*f*t)"
      ],
      "execution_count": 0,
      "outputs": []
    },
    {
      "cell_type": "code",
      "metadata": {
        "id": "FqmeaaLOTmBC",
        "colab_type": "code",
        "colab": {}
      },
      "source": [
        "t, x = np.loadtxt('FreeDecay.csv', delimiter=',', unpack=True, skiprows=1)"
      ],
      "execution_count": 0,
      "outputs": []
    },
    {
      "cell_type": "code",
      "metadata": {
        "id": "caHrkVvjUED2",
        "colab_type": "code",
        "outputId": "80ef10f5-f9f1-49c8-8432-12763d9ebb49",
        "colab": {
          "base_uri": "https://localhost:8080/",
          "height": 380
        }
      },
      "source": [
        "guess = np.array([150., 1., 3.])\n",
        "popt, pcov = scipy.optimize.curve_fit(free_decay_model, t, x, p0=guess)\n",
        "print('best-fit parameters: ', popt)\n",
        "\n",
        "popt_uncertainties = np.sqrt(np.diag(pcov)) # get the diagonal elements then take sqrt\n",
        "print('uncertainties: ', popt_uncertainties)\n",
        "\n",
        "# calculate best fit model values\n",
        "xfit = np.linspace(0, t.max(), 100)\n",
        "yfit = free_decay_model(xfit, popt[0], popt[1], popt[2])\n",
        "#yfit = free_decay_model(xfit, guess[0],guess[1],guess[2])\n",
        "\n",
        "# plot\n",
        "plt.plot(t, x, 'bo')\n",
        "plt.plot(xfit, yfit, 'r') # plot with a solid line\n",
        "plt.xlim(t.min(),t.max())\n",
        "plt.ylim(x.min(),x.max())\n",
        "plt.xlabel('Time (s)')\n",
        "plt.ylabel('Position (mm)')\n",
        "plt.title('Free Decay')\n",
        "\n",
        "print('A = ', popt[0], ' +/- ', popt_uncertainties[0])\n",
        "print('f = ', popt[1], ' +/- ', popt_uncertainties[1])\n",
        "print('tau = ', popt[2], ' +/- ', popt_uncertainties[2])"
      ],
      "execution_count": 0,
      "outputs": [
        {
          "output_type": "stream",
          "text": [
            "best-fit parameters:  [146.33889355   0.89675135   2.55732987]\n",
            "uncertainties:  [4.64566408e+00 2.16165269e-03 1.21063969e-01]\n",
            "A =  146.33889354623523  +/-  4.64566407590869\n",
            "f =  0.8967513542248148  +/-  0.002161652685290791\n",
            "tau =  2.5573298685267347  +/-  0.12106396858743956\n"
          ],
          "name": "stdout"
        },
        {
          "output_type": "display_data",
          "data": {
            "image/png": "[encoded data removed]",
            "text/plain": [
              "<Figure size 432x288 with 1 Axes>"
            ]
          },
          "metadata": {
            "tags": []
          }
        }
      ]
    },
    {
      "cell_type": "markdown",
      "metadata": {
        "id": "12E44vnFb20T",
        "colab_type": "text"
      },
      "source": [
        "Theory gives $$\\omega = \\sqrt{\\omega_0^2 - \\frac{\\gamma^2}{4}}$$ where $\\omega_0^2 = k/m$ and $\\tau = 2/\\gamma$."
      ]
    },
    {
      "cell_type": "code",
      "metadata": {
        "id": "iUbeBfRWUEB-",
        "colab_type": "code",
        "outputId": "b04f747f-8216-4b58-84cb-74202e1b6321",
        "colab": {
          "base_uri": "https://localhost:8080/",
          "height": 51
        }
      },
      "source": [
        "k = 2.92 #N/m\n",
        "m = 0.0792 #kg\n",
        "tau = 2.56 #s\n",
        "f = np.sqrt(k/m - 1/tau**2)/(2*np.pi) #Hertz\n",
        "print(\"Theory f = \", f)\n",
        "print(\"Theory f0 = \", np.sqrt(k/m)/(2*np.pi))"
      ],
      "execution_count": 0,
      "outputs": [
        {
          "output_type": "stream",
          "text": [
            "Theory f =  0.9643804497171302\n",
            "Theory f0 =  0.9663822992059184\n"
          ],
          "name": "stdout"
        }
      ]
    },
    {
      "cell_type": "markdown",
      "metadata": {
        "id": "d-mzRF_cd1fb",
        "colab_type": "text"
      },
      "source": [
        "Do get smaller frequency than the natural frequency, using the measured spring constant and mass, but not matching theory within uncertainty. Looks like probably systematic error in the data not quite matching the model. The amplitude envelope does not really follow a nice exponential decay (almost a linear decay instead), which hints that perhaps the friction in this system isn't primarily dependent linearly on velocity.\n",
        "\n",
        "Probably instead more of a constant frictional force, see [this paper](https://aapt.scitation.org/doi/10.1119/1.5044654) if you want to explore this further!"
      ]
    },
    {
      "cell_type": "markdown",
      "metadata": {
        "id": "9Itqm8ccX1hE",
        "colab_type": "text"
      },
      "source": [
        ""
      ]
    }
  ]
}